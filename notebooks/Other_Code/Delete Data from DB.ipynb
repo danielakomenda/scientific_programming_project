{
 "cells": [
  {
   "cell_type": "code",
   "execution_count": 2,
   "id": "3ca8fa1a",
   "metadata": {},
   "outputs": [
    {
     "name": "stderr",
     "output_type": "stream",
     "text": [
      "/Users/missd/.pyenv/versions/3.10.4/lib/python3.10/site-packages/requests/__init__.py:102: RequestsDependencyWarning: urllib3 (1.26.9) or chardet (5.1.0)/charset_normalizer (2.0.12) doesn't match a supported version!\n",
      "  warnings.warn(\"urllib3 ({}) or chardet ({})/charset_normalizer ({}) doesn't match a supported \"\n"
     ]
    }
   ],
   "source": [
    "from motor.motor_asyncio import AsyncIOMotorClient\n",
    "from pymongo.server_api import ServerApi"
   ]
  },
  {
   "cell_type": "code",
   "execution_count": 4,
   "id": "5d3c3bcf",
   "metadata": {},
   "outputs": [],
   "source": [
    "if False:\n",
    "    uri = \"mongodb+srv://scientificprogramming:<mongodb-pw>@scientificprogramming.nzfrli0.mongodb.net/test\"\n",
    "    DBclient = AsyncIOMotorClient(uri, server_api=ServerApi('1'))\n",
    "    db = DBclient.data\n",
    "    collection = db.wetter2\n",
    "\n",
    "    filter = {'$expr' : {'$lte' : [{'$year': \"$datetime\"}, 2020] }}\n",
    "    \n",
    "    await collection.delete_many(filter)"
   ]
  },
  {
   "cell_type": "markdown",
   "id": "aa23e7e9",
   "metadata": {},
   "source": [
    "## Jupyter-Notebook Footer-Info"
   ]
  },
  {
   "cell_type": "code",
   "execution_count": 1,
   "id": "b386bc1a",
   "metadata": {},
   "outputs": [
    {
     "name": "stdout",
     "output_type": "stream",
     "text": [
      "-----------------------------------\n",
      "POSIX\n",
      "Darwin | 22.4.0\n",
      "Datetime: 2023-05-14 16:21:30\n",
      "Python Version: 3.10.4\n",
      "-----------------------------------\n"
     ]
    }
   ],
   "source": [
    "import os\n",
    "import platform\n",
    "import socket\n",
    "from platform import python_version\n",
    "from datetime import datetime\n",
    "\n",
    "print('-----------------------------------')\n",
    "print(os.name.upper())\n",
    "print(platform.system(), '|', platform.release())\n",
    "print('Datetime:', datetime.now().strftime(\"%Y-%m-%d %H:%M:%S\"))\n",
    "print('Python Version:', python_version())\n",
    "print('-----------------------------------')"
   ]
  },
  {
   "cell_type": "code",
   "execution_count": null,
   "id": "0a66dc19",
   "metadata": {},
   "outputs": [],
   "source": []
  }
 ],
 "metadata": {
  "kernelspec": {
   "display_name": "Python 3 (ipykernel)",
   "language": "python",
   "name": "python3"
  },
  "language_info": {
   "codemirror_mode": {
    "name": "ipython",
    "version": 3
   },
   "file_extension": ".py",
   "mimetype": "text/x-python",
   "name": "python",
   "nbconvert_exporter": "python",
   "pygments_lexer": "ipython3",
   "version": "3.10.4"
  }
 },
 "nbformat": 4,
 "nbformat_minor": 5
}
