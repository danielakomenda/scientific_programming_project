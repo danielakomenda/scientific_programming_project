{
 "cells": [
  {
   "cell_type": "code",
   "execution_count": 10,
   "id": "af99dd10",
   "metadata": {},
   "outputs": [],
   "source": [
    "import datetime\n",
    "\n",
    "from sp_project.weather.openweather_api_client import OpenWeatherClient"
   ]
  },
  {
   "cell_type": "code",
   "execution_count": 11,
   "id": "ac3f8b4f",
   "metadata": {},
   "outputs": [],
   "source": [
    "api_key_ow = \"\"\"***REMOVED***\"\"\".strip()"
   ]
  },
  {
   "cell_type": "code",
   "execution_count": 12,
   "id": "426895fe",
   "metadata": {},
   "outputs": [],
   "source": [
    "coordinates = {\n",
    "    \"zurich\": (47.38, 8.54),# \"47.38°N 8.54°E\",\n",
    "}"
   ]
  },
  {
   "cell_type": "code",
   "execution_count": 13,
   "id": "a5ee9ce7",
   "metadata": {},
   "outputs": [
    {
     "data": {
      "text/plain": [
       "{'lat': 47.38,\n",
       " 'lon': 8.54,\n",
       " 'timezone': 'Europe/Zurich',\n",
       " 'timezone_offset': datetime.timedelta(seconds=3600),\n",
       " 'data': [{'dt': datetime.datetime(2023, 3, 25, 18, 7, 37, tzinfo=datetime.timezone.utc),\n",
       "   'sunrise': datetime.datetime(2023, 3, 25, 5, 19, 39, tzinfo=datetime.timezone.utc),\n",
       "   'sunset': datetime.datetime(2023, 3, 25, 17, 44, 6, tzinfo=datetime.timezone.utc),\n",
       "   'temp': 281.69 <Unit('kelvin')>,\n",
       "   'feels_like': 279.57 <Unit('kelvin')>,\n",
       "   'pressure': 1015 <Unit('hectopascal')>,\n",
       "   'humidity': 76,\n",
       "   'dew_point': 277.71 <Unit('kelvin')>,\n",
       "   'uvi': 0,\n",
       "   'clouds': 20,\n",
       "   'visibility': 10000 <Unit('kilometer')>,\n",
       "   'wind_speed': 3.58 <Unit('meter / second')>,\n",
       "   'wind_deg': 248 <Unit('degree')>,\n",
       "   'wind_gust': 6.26 <Unit('meter / second')>,\n",
       "   'weather': [{'id': 801,\n",
       "     'main': 'Clouds',\n",
       "     'description': 'few clouds',\n",
       "     'icon': '02n'}]}]}"
      ]
     },
     "execution_count": 13,
     "metadata": {},
     "output_type": "execute_result"
    }
   ],
   "source": [
    "async with OpenWeatherClient(\n",
    "    api_key = api_key_ow,\n",
    ") as client:\n",
    "    zurich = client.station_at(*coordinates[\"zurich\"])\n",
    "    data = await zurich.historic(datetime.datetime.now(datetime.timezone.utc) - datetime.timedelta(hours=24))\n",
    "\n",
    "data"
   ]
  },
  {
   "cell_type": "code",
   "execution_count": null,
   "id": "e5f0a0dd",
   "metadata": {},
   "outputs": [],
   "source": []
  },
  {
   "cell_type": "code",
   "execution_count": null,
   "id": "aec15bc2",
   "metadata": {},
   "outputs": [],
   "source": []
  }
 ],
 "metadata": {
  "kernelspec": {
   "display_name": "Python 3 (ipykernel)",
   "language": "python",
   "name": "python3"
  },
  "language_info": {
   "codemirror_mode": {
    "name": "ipython",
    "version": 3
   },
   "file_extension": ".py",
   "mimetype": "text/x-python",
   "name": "python",
   "nbconvert_exporter": "python",
   "pygments_lexer": "ipython3",
   "version": "3.10.4"
  }
 },
 "nbformat": 4,
 "nbformat_minor": 5
}
