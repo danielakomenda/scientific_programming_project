{
 "cells": [
  {
   "cell_type": "markdown",
   "id": "56f2eaca",
   "metadata": {},
   "source": [
    "# OpenWeatherClient"
   ]
  },
  {
   "cell_type": "code",
   "execution_count": 3,
   "id": "c0367a0a",
   "metadata": {},
   "outputs": [],
   "source": [
    "import warnings\n",
    "import json\n",
    "import datetime\n",
    "import zipfile\n",
    "import bz2\n",
    "import base64\n",
    "import struct\n",
    "import abc\n",
    "import lzma\n",
    "import io\n",
    "import pickle\n",
    "from types import SimpleNamespace\n",
    "from pathlib import Path\n",
    "\n",
    "import trio\n",
    "import httpx\n",
    "import pint\n",
    "import pandas as pd\n",
    "import matplotlib.pyplot as plt\n",
    "\n",
    "u = pint.get_application_registry()\n",
    "\n",
    "%autoawait trio\n",
    "%matplotlib inline"
   ]
  },
  {
   "cell_type": "code",
   "execution_count": 20,
   "id": "fbd094b1",
   "metadata": {},
   "outputs": [],
   "source": [
    "def to_ns(obj):\n",
    "    if isinstance(obj, dict):\n",
    "        return SimpleNamespace(**{k:to_ns(v) for k,v in obj.items()})\n",
    "    if isinstance(obj, (tuple, list)):\n",
    "        return type(obj)(to_ns(v) for v in obj)\n",
    "    return obj"
   ]
  },
  {
   "cell_type": "code",
   "execution_count": 22,
   "id": "c152a75f",
   "metadata": {},
   "outputs": [],
   "source": [
    "# Handles HTTP-Requests in general (Parent-Class)\n",
    "\n",
    "class RequestWrapper:\n",
    "    \n",
    "    # All Child-Classes must implement the Method standard_request\n",
    "    @abc.abstractmethod\n",
    "    async def standard_request(self, method, url, *args, **kw):\n",
    "        pass\n",
    "    \n",
    "    # Method to get a request; all Child-Classes can use this Method\n",
    "    async def get(self, *args, **kw):\n",
    "        return await self.standard_request(\"get\",*args,**kw)\n",
    "    \n",
    "    # Method to send a request; all Child-Classes can use this Method\n",
    "    async def post(self, *args, **kw):\n",
    "        return await self.standard_request(\"post\",*args,**kw)"
   ]
  },
  {
   "cell_type": "code",
   "execution_count": 23,
   "id": "66601263",
   "metadata": {},
   "outputs": [],
   "source": [
    "# Handles the OpenWeather-Request\n",
    "\n",
    "class OpenWeatherClient(RequestWrapper):\n",
    "    \n",
    "    # Instantiate the class; it takes the parameters api_url and api_key\n",
    "    def __init__(self, api_key:str, api_url:str = \"https://api.openweathermap.org/data/3.0\"):\n",
    "        \n",
    "        # Instantiate a new httpx-AsyncClient and tells server to send JSON-File back\n",
    "        self._client = httpx.AsyncClient(headers = {\"Accept\": \"application/json\"})\n",
    "        \n",
    "        # Must-Have-Parameters\n",
    "        self._api_url = api_url\n",
    "        self._api_key = api_key\n",
    "\n",
    "        \n",
    "    async def __aenter__(self):\n",
    "        await self._client.__aenter__()\n",
    "        return self\n",
    "    \n",
    "    # When an exception happens inside the `with`-Block `__aexit__` will receive Information about the exception in its arguments.\n",
    "    # The httpx-AsyncClient's `__aexit__`-Methode will be invoked and will decide if the exception is to propagete\n",
    "    # (It always decides to propagate)\n",
    "    # `__aexit__' closes the connection\n",
    "    async def __aexit__(self, exc_type, exc_value, exc_tb):\n",
    "        return await self._client.__aexit__(exc_type, exc_value, exc_tb)\n",
    "\n",
    "    \n",
    "    async def request(self, method, url, *args, **kw):\n",
    "        full_url = f\"{self._api_url}/{url}\"\n",
    "        response = await self._client.request(method, full_url, *args, **kw)\n",
    "        return response\n",
    "        \n",
    "    async def standard_request(self, method, url, *args, **kw):\n",
    "        params = kw.pop(\"params\",{})\n",
    "        assert params.setdefault(\"appid\",self._api_key) == self._api_key\n",
    "        response = await self.request(method,url, *args, params=params, **kw)\n",
    "        response.raise_for_status()\n",
    "        ret = to_ns(response.json()) # changes JSON to namespace-Object\n",
    "        return ret\n",
    "\n",
    "    \n",
    "    # Defines the weatherstation with the coordinates as parameters\n",
    "    def station_at(self,lat,lon):\n",
    "        return WeatherStation(self,lat,lon)"
   ]
  },
  {
   "cell_type": "code",
   "execution_count": 33,
   "id": "7fc1d405",
   "metadata": {},
   "outputs": [],
   "source": [
    "# Handles a specific weatherstation\n",
    "\n",
    "class WeatherStation(RequestWrapper):\n",
    "    def __init__(self, client:OpenWeatherClient, lat:float, lon:float):\n",
    "        self._client = client\n",
    "        self._coordinates = (lat,lon)\n",
    "    \n",
    "    async def standard_request(self, method, url, *args, **kw):\n",
    "        lat,lon = self._coordinates\n",
    "        params = kw.pop(\"params\",{})\n",
    "        assert params.setdefault(\"lat\",lat) == lat\n",
    "        assert params.setdefault(\"lon\",lon) == lon\n",
    "        return await self._client.standard_request(method, url, *args, params=params, **kw)\n",
    "    \n",
    "    # Adds the Units\n",
    "    _data_units = dict(\n",
    "        temp = u.K,\n",
    "        feels_like = u.K,\n",
    "        pressure = u.hPa,\n",
    "#        humidity = u.percent,\n",
    "#        clouds = u.percent,\n",
    "        dew_point = u.K,\n",
    "        visibility = u.km,\n",
    "        wind_speed = u.m/u.s,\n",
    "        wind_gust = u.m/u.s,\n",
    "        wind_deg = u.degree,\n",
    "        rain = u.mm/u.hr,\n",
    "        snow = u.mm/u.hr,\n",
    "    )\n",
    "    \n",
    "    async def historic(self, ts:datetime.datetime, lang:str=\"en\"):\n",
    "        assert ts.tzinfo is not None, \"Naive timestamps are not supported\"\n",
    "        dt = int(round(ts.timestamp()))\n",
    "        ret = await self.get(\"onecall/timemachine\",params=dict(dt=dt,lang=lang,units=\"standard\"))\n",
    "        ret.timezone_offset = datetime.timedelta(seconds = ret.timezone_offset)\n",
    "        for d in ret.data:\n",
    "            for k,units in self._data_units.items():\n",
    "                v = getattr(d, k, None)\n",
    "                if v is None:\n",
    "                    continue\n",
    "                setattr(d, k, u.Quantity(v, units))\n",
    "            for k in \"dt sunrise sunset\".split():\n",
    "                v = getattr(d, k, None)\n",
    "                if v is None:\n",
    "                    continue\n",
    "                setattr(d, k, datetime.datetime.utcfromtimestamp(v).replace(tzinfo=datetime.timezone.utc))\n",
    "        return ret"
   ]
  },
  {
   "cell_type": "code",
   "execution_count": 34,
   "id": "ac3f8b4f",
   "metadata": {},
   "outputs": [],
   "source": [
    "api_key_ow = \"\"\"***REMOVED***\"\"\".strip()"
   ]
  },
  {
   "cell_type": "code",
   "execution_count": 35,
   "id": "87a1474c",
   "metadata": {},
   "outputs": [],
   "source": [
    "coordinates = {\n",
    "    \"zurich\": (47.38, 8.54),# \"47.38°N 8.54°E\",\n",
    "}"
   ]
  },
  {
   "cell_type": "code",
   "execution_count": 36,
   "id": "2f3ac242",
   "metadata": {},
   "outputs": [
    {
     "data": {
      "text/plain": [
       "namespace(lat=47.38,\n",
       "          lon=8.54,\n",
       "          timezone='Europe/Zurich',\n",
       "          timezone_offset=datetime.timedelta(seconds=3600),\n",
       "          data=[namespace(dt=datetime.datetime(2023, 3, 18, 17, 53, 28, tzinfo=datetime.timezone.utc),\n",
       "                          sunrise=datetime.datetime(2023, 3, 18, 5, 33, 51, tzinfo=datetime.timezone.utc),\n",
       "                          sunset=datetime.datetime(2023, 3, 18, 17, 34, 15, tzinfo=datetime.timezone.utc),\n",
       "                          temp=287.38 <Unit('kelvin')>,\n",
       "                          feels_like=286.27 <Unit('kelvin')>,\n",
       "                          pressure=1013 <Unit('hectopascal')>,\n",
       "                          humidity=54,\n",
       "                          dew_point=278.21 <Unit('kelvin')>,\n",
       "                          uvi=0,\n",
       "                          clouds=75,\n",
       "                          visibility=10000 <Unit('kilometer')>,\n",
       "                          wind_speed=2.06 <Unit('meter / second')>,\n",
       "                          wind_deg=320 <Unit('degree')>,\n",
       "                          weather=[namespace(id=803,\n",
       "                                             main='Clouds',\n",
       "                                             description='broken clouds',\n",
       "                                             icon='04n')])])"
      ]
     },
     "execution_count": 36,
     "metadata": {},
     "output_type": "execute_result"
    }
   ],
   "source": [
    "async with OpenWeatherClient(\n",
    "    api_key = api_key_ow,\n",
    ") as client:\n",
    "    zurich = client.station_at(*coordinates[\"zurich\"])\n",
    "    data = await zurich.historic(datetime.datetime.now(datetime.timezone.utc) - datetime.timedelta(hours=24))\n",
    "\n",
    "data"
   ]
  },
  {
   "cell_type": "code",
   "execution_count": null,
   "id": "a2534f3b",
   "metadata": {},
   "outputs": [],
   "source": []
  }
 ],
 "metadata": {
  "kernelspec": {
   "display_name": "Python 3 (ipykernel)",
   "language": "python",
   "name": "python3"
  },
  "language_info": {
   "codemirror_mode": {
    "name": "ipython",
    "version": 3
   },
   "file_extension": ".py",
   "mimetype": "text/x-python",
   "name": "python",
   "nbconvert_exporter": "python",
   "pygments_lexer": "ipython3",
   "version": "3.9.13"
  }
 },
 "nbformat": 4,
 "nbformat_minor": 5
}
