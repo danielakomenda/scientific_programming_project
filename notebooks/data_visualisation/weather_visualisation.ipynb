{
 "cells": [
  {
   "cell_type": "code",
   "execution_count": 3,
   "id": "8fcd47b7",
   "metadata": {},
   "outputs": [
    {
     "data": {
      "text/html": [
       "<style>\n",
       "        .bk-notebook-logo {\n",
       "            display: block;\n",
       "            width: 20px;\n",
       "            height: 20px;\n",
       "            background-image: url(data:image/png;base64,iVBORw0KGgoAAAANSUhEUgAAABQAAAAUCAYAAACNiR0NAAAABHNCSVQICAgIfAhkiAAAAAlwSFlzAAALEgAACxIB0t1+/AAAABx0RVh0U29mdHdhcmUAQWRvYmUgRmlyZXdvcmtzIENTNui8sowAAAOkSURBVDiNjZRtaJVlGMd/1/08zzln5zjP1LWcU9N0NkN8m2CYjpgQYQXqSs0I84OLIC0hkEKoPtiH3gmKoiJDU7QpLgoLjLIQCpEsNJ1vqUOdO7ppbuec5+V+rj4ctwzd8IIbbi6u+8f1539dt3A78eXC7QizUF7gyV1fD1Yqg4JWz84yffhm0qkFqBogB9rM8tZdtwVsPUhWhGcFJngGeWrPzHm5oaMmkfEg1usvLFyc8jLRqDOMru7AyC8saQr7GG7f5fvDeH7Ej8CM66nIF+8yngt6HWaKh7k49Soy9nXurCi1o3qUbS3zWfrYeQDTB/Qj6kX6Ybhw4B+bOYoLKCC9H3Nu/leUTZ1JdRWkkn2ldcCamzrcf47KKXdAJllSlxAOkRgyHsGC/zRday5Qld9DyoM4/q/rUoy/CXh3jzOu3bHUVZeU+DEn8FInkPBFlu3+nW3Nw0mk6vCDiWg8CeJaxEwuHS3+z5RgY+YBR6V1Z1nxSOfoaPa4LASWxxdNp+VWTk7+4vzaou8v8PN+xo+KY2xsw6une2frhw05CTYOmQvsEhjhWjn0bmXPjpE1+kplmmkP3suftwTubK9Vq22qKmrBhpY4jvd5afdRA3wGjFAgcnTK2s4hY0/GPNIb0nErGMCRxWOOX64Z8RAC4oCXdklmEvcL8o0BfkNK4lUg9HTl+oPlQxdNo3Mg4Nv175e/1LDGzZen30MEjRUtmXSfiTVu1kK8W4txyV6BMKlbgk3lMwYCiusNy9fVfvvwMxv8Ynl6vxoByANLTWplvuj/nF9m2+PDtt1eiHPBr1oIfhCChQMBw6Aw0UulqTKZdfVvfG7VcfIqLG9bcldL/+pdWTLxLUy8Qq38heUIjh4XlzZxzQm19lLFlr8vdQ97rjZVOLf8nclzckbcD4wxXMidpX30sFd37Fv/GtwwhzhxGVAprjbg0gCAEeIgwCZyTV2Z1REEW8O4py0wsjeloKoMr6iCY6dP92H6Vw/oTyICIthibxjm/DfN9lVz8IqtqKYLUXfoKVMVQVVJOElGjrnnUt9T9wbgp8AyYKaGlqingHZU/uG2NTZSVqwHQTWkx9hxjkpWDaCg6Ckj5qebgBVbT3V3NNXMSiWSDdGV3hrtzla7J+duwPOToIg42ChPQOQjspnSlp1V+Gjdged7+8UN5CRAV7a5EdFNwCjEaBR27b3W890TE7g24NAP/mMDXRWrGoFPQI9ls/MWO2dWFAar/xcOIImbbpA3zgAAAABJRU5ErkJggg==);\n",
       "        }\n",
       "    </style>\n",
       "    <div>\n",
       "        <a href=\"https://bokeh.org\" target=\"_blank\" class=\"bk-notebook-logo\"></a>\n",
       "        <span id=\"p1002\">Loading BokehJS ...</span>\n",
       "    </div>\n"
      ]
     },
     "metadata": {},
     "output_type": "display_data"
    },
    {
     "data": {
      "application/javascript": [
       "(function(root) {\n",
       "  function now() {\n",
       "    return new Date();\n",
       "  }\n",
       "\n",
       "  const force = true;\n",
       "\n",
       "  if (typeof root._bokeh_onload_callbacks === \"undefined\" || force === true) {\n",
       "    root._bokeh_onload_callbacks = [];\n",
       "    root._bokeh_is_loading = undefined;\n",
       "  }\n",
       "\n",
       "const JS_MIME_TYPE = 'application/javascript';\n",
       "  const HTML_MIME_TYPE = 'text/html';\n",
       "  const EXEC_MIME_TYPE = 'application/vnd.bokehjs_exec.v0+json';\n",
       "  const CLASS_NAME = 'output_bokeh rendered_html';\n",
       "\n",
       "  /**\n",
       "   * Render data to the DOM node\n",
       "   */\n",
       "  function render(props, node) {\n",
       "    const script = document.createElement(\"script\");\n",
       "    node.appendChild(script);\n",
       "  }\n",
       "\n",
       "  /**\n",
       "   * Handle when an output is cleared or removed\n",
       "   */\n",
       "  function handleClearOutput(event, handle) {\n",
       "    const cell = handle.cell;\n",
       "\n",
       "    const id = cell.output_area._bokeh_element_id;\n",
       "    const server_id = cell.output_area._bokeh_server_id;\n",
       "    // Clean up Bokeh references\n",
       "    if (id != null && id in Bokeh.index) {\n",
       "      Bokeh.index[id].model.document.clear();\n",
       "      delete Bokeh.index[id];\n",
       "    }\n",
       "\n",
       "    if (server_id !== undefined) {\n",
       "      // Clean up Bokeh references\n",
       "      const cmd_clean = \"from bokeh.io.state import curstate; print(curstate().uuid_to_server['\" + server_id + \"'].get_sessions()[0].document.roots[0]._id)\";\n",
       "      cell.notebook.kernel.execute(cmd_clean, {\n",
       "        iopub: {\n",
       "          output: function(msg) {\n",
       "            const id = msg.content.text.trim();\n",
       "            if (id in Bokeh.index) {\n",
       "              Bokeh.index[id].model.document.clear();\n",
       "              delete Bokeh.index[id];\n",
       "            }\n",
       "          }\n",
       "        }\n",
       "      });\n",
       "      // Destroy server and session\n",
       "      const cmd_destroy = \"import bokeh.io.notebook as ion; ion.destroy_server('\" + server_id + \"')\";\n",
       "      cell.notebook.kernel.execute(cmd_destroy);\n",
       "    }\n",
       "  }\n",
       "\n",
       "  /**\n",
       "   * Handle when a new output is added\n",
       "   */\n",
       "  function handleAddOutput(event, handle) {\n",
       "    const output_area = handle.output_area;\n",
       "    const output = handle.output;\n",
       "\n",
       "    // limit handleAddOutput to display_data with EXEC_MIME_TYPE content only\n",
       "    if ((output.output_type != \"display_data\") || (!Object.prototype.hasOwnProperty.call(output.data, EXEC_MIME_TYPE))) {\n",
       "      return\n",
       "    }\n",
       "\n",
       "    const toinsert = output_area.element.find(\".\" + CLASS_NAME.split(' ')[0]);\n",
       "\n",
       "    if (output.metadata[EXEC_MIME_TYPE][\"id\"] !== undefined) {\n",
       "      toinsert[toinsert.length - 1].firstChild.textContent = output.data[JS_MIME_TYPE];\n",
       "      // store reference to embed id on output_area\n",
       "      output_area._bokeh_element_id = output.metadata[EXEC_MIME_TYPE][\"id\"];\n",
       "    }\n",
       "    if (output.metadata[EXEC_MIME_TYPE][\"server_id\"] !== undefined) {\n",
       "      const bk_div = document.createElement(\"div\");\n",
       "      bk_div.innerHTML = output.data[HTML_MIME_TYPE];\n",
       "      const script_attrs = bk_div.children[0].attributes;\n",
       "      for (let i = 0; i < script_attrs.length; i++) {\n",
       "        toinsert[toinsert.length - 1].firstChild.setAttribute(script_attrs[i].name, script_attrs[i].value);\n",
       "        toinsert[toinsert.length - 1].firstChild.textContent = bk_div.children[0].textContent\n",
       "      }\n",
       "      // store reference to server id on output_area\n",
       "      output_area._bokeh_server_id = output.metadata[EXEC_MIME_TYPE][\"server_id\"];\n",
       "    }\n",
       "  }\n",
       "\n",
       "  function register_renderer(events, OutputArea) {\n",
       "\n",
       "    function append_mime(data, metadata, element) {\n",
       "      // create a DOM node to render to\n",
       "      const toinsert = this.create_output_subarea(\n",
       "        metadata,\n",
       "        CLASS_NAME,\n",
       "        EXEC_MIME_TYPE\n",
       "      );\n",
       "      this.keyboard_manager.register_events(toinsert);\n",
       "      // Render to node\n",
       "      const props = {data: data, metadata: metadata[EXEC_MIME_TYPE]};\n",
       "      render(props, toinsert[toinsert.length - 1]);\n",
       "      element.append(toinsert);\n",
       "      return toinsert\n",
       "    }\n",
       "\n",
       "    /* Handle when an output is cleared or removed */\n",
       "    events.on('clear_output.CodeCell', handleClearOutput);\n",
       "    events.on('delete.Cell', handleClearOutput);\n",
       "\n",
       "    /* Handle when a new output is added */\n",
       "    events.on('output_added.OutputArea', handleAddOutput);\n",
       "\n",
       "    /**\n",
       "     * Register the mime type and append_mime function with output_area\n",
       "     */\n",
       "    OutputArea.prototype.register_mime_type(EXEC_MIME_TYPE, append_mime, {\n",
       "      /* Is output safe? */\n",
       "      safe: true,\n",
       "      /* Index of renderer in `output_area.display_order` */\n",
       "      index: 0\n",
       "    });\n",
       "  }\n",
       "\n",
       "  // register the mime type if in Jupyter Notebook environment and previously unregistered\n",
       "  if (root.Jupyter !== undefined) {\n",
       "    const events = require('base/js/events');\n",
       "    const OutputArea = require('notebook/js/outputarea').OutputArea;\n",
       "\n",
       "    if (OutputArea.prototype.mime_types().indexOf(EXEC_MIME_TYPE) == -1) {\n",
       "      register_renderer(events, OutputArea);\n",
       "    }\n",
       "  }\n",
       "  if (typeof (root._bokeh_timeout) === \"undefined\" || force === true) {\n",
       "    root._bokeh_timeout = Date.now() + 5000;\n",
       "    root._bokeh_failed_load = false;\n",
       "  }\n",
       "\n",
       "  const NB_LOAD_WARNING = {'data': {'text/html':\n",
       "     \"<div style='background-color: #fdd'>\\n\"+\n",
       "     \"<p>\\n\"+\n",
       "     \"BokehJS does not appear to have successfully loaded. If loading BokehJS from CDN, this \\n\"+\n",
       "     \"may be due to a slow or bad network connection. Possible fixes:\\n\"+\n",
       "     \"</p>\\n\"+\n",
       "     \"<ul>\\n\"+\n",
       "     \"<li>re-rerun `output_notebook()` to attempt to load from CDN again, or</li>\\n\"+\n",
       "     \"<li>use INLINE resources instead, as so:</li>\\n\"+\n",
       "     \"</ul>\\n\"+\n",
       "     \"<code>\\n\"+\n",
       "     \"from bokeh.resources import INLINE\\n\"+\n",
       "     \"output_notebook(resources=INLINE)\\n\"+\n",
       "     \"</code>\\n\"+\n",
       "     \"</div>\"}};\n",
       "\n",
       "  function display_loaded() {\n",
       "    const el = document.getElementById(\"p1002\");\n",
       "    if (el != null) {\n",
       "      el.textContent = \"BokehJS is loading...\";\n",
       "    }\n",
       "    if (root.Bokeh !== undefined) {\n",
       "      if (el != null) {\n",
       "        el.textContent = \"BokehJS \" + root.Bokeh.version + \" successfully loaded.\";\n",
       "      }\n",
       "    } else if (Date.now() < root._bokeh_timeout) {\n",
       "      setTimeout(display_loaded, 100)\n",
       "    }\n",
       "  }\n",
       "\n",
       "  function run_callbacks() {\n",
       "    try {\n",
       "      root._bokeh_onload_callbacks.forEach(function(callback) {\n",
       "        if (callback != null)\n",
       "          callback();\n",
       "      });\n",
       "    } finally {\n",
       "      delete root._bokeh_onload_callbacks\n",
       "    }\n",
       "    console.debug(\"Bokeh: all callbacks have finished\");\n",
       "  }\n",
       "\n",
       "  function load_libs(css_urls, js_urls, callback) {\n",
       "    if (css_urls == null) css_urls = [];\n",
       "    if (js_urls == null) js_urls = [];\n",
       "\n",
       "    root._bokeh_onload_callbacks.push(callback);\n",
       "    if (root._bokeh_is_loading > 0) {\n",
       "      console.debug(\"Bokeh: BokehJS is being loaded, scheduling callback at\", now());\n",
       "      return null;\n",
       "    }\n",
       "    if (js_urls == null || js_urls.length === 0) {\n",
       "      run_callbacks();\n",
       "      return null;\n",
       "    }\n",
       "    console.debug(\"Bokeh: BokehJS not loaded, scheduling load and callback at\", now());\n",
       "    root._bokeh_is_loading = css_urls.length + js_urls.length;\n",
       "\n",
       "    function on_load() {\n",
       "      root._bokeh_is_loading--;\n",
       "      if (root._bokeh_is_loading === 0) {\n",
       "        console.debug(\"Bokeh: all BokehJS libraries/stylesheets loaded\");\n",
       "        run_callbacks()\n",
       "      }\n",
       "    }\n",
       "\n",
       "    function on_error(url) {\n",
       "      console.error(\"failed to load \" + url);\n",
       "    }\n",
       "\n",
       "    for (let i = 0; i < css_urls.length; i++) {\n",
       "      const url = css_urls[i];\n",
       "      const element = document.createElement(\"link\");\n",
       "      element.onload = on_load;\n",
       "      element.onerror = on_error.bind(null, url);\n",
       "      element.rel = \"stylesheet\";\n",
       "      element.type = \"text/css\";\n",
       "      element.href = url;\n",
       "      console.debug(\"Bokeh: injecting link tag for BokehJS stylesheet: \", url);\n",
       "      document.body.appendChild(element);\n",
       "    }\n",
       "\n",
       "    for (let i = 0; i < js_urls.length; i++) {\n",
       "      const url = js_urls[i];\n",
       "      const element = document.createElement('script');\n",
       "      element.onload = on_load;\n",
       "      element.onerror = on_error.bind(null, url);\n",
       "      element.async = false;\n",
       "      element.src = url;\n",
       "      console.debug(\"Bokeh: injecting script tag for BokehJS library: \", url);\n",
       "      document.head.appendChild(element);\n",
       "    }\n",
       "  };\n",
       "\n",
       "  function inject_raw_css(css) {\n",
       "    const element = document.createElement(\"style\");\n",
       "    element.appendChild(document.createTextNode(css));\n",
       "    document.body.appendChild(element);\n",
       "  }\n",
       "\n",
       "  const js_urls = [\"https://cdn.bokeh.org/bokeh/release/bokeh-3.1.0.min.js\", \"https://cdn.bokeh.org/bokeh/release/bokeh-gl-3.1.0.min.js\", \"https://cdn.bokeh.org/bokeh/release/bokeh-widgets-3.1.0.min.js\", \"https://cdn.bokeh.org/bokeh/release/bokeh-tables-3.1.0.min.js\", \"https://cdn.bokeh.org/bokeh/release/bokeh-mathjax-3.1.0.min.js\"];\n",
       "  const css_urls = [];\n",
       "\n",
       "  const inline_js = [    function(Bokeh) {\n",
       "      Bokeh.set_log_level(\"info\");\n",
       "    },\n",
       "function(Bokeh) {\n",
       "    }\n",
       "  ];\n",
       "\n",
       "  function run_inline_js() {\n",
       "    if (root.Bokeh !== undefined || force === true) {\n",
       "          for (let i = 0; i < inline_js.length; i++) {\n",
       "      inline_js[i].call(root, root.Bokeh);\n",
       "    }\n",
       "if (force === true) {\n",
       "        display_loaded();\n",
       "      }} else if (Date.now() < root._bokeh_timeout) {\n",
       "      setTimeout(run_inline_js, 100);\n",
       "    } else if (!root._bokeh_failed_load) {\n",
       "      console.log(\"Bokeh: BokehJS failed to load within specified timeout.\");\n",
       "      root._bokeh_failed_load = true;\n",
       "    } else if (force !== true) {\n",
       "      const cell = $(document.getElementById(\"p1002\")).parents('.cell').data().cell;\n",
       "      cell.output_area.append_execute_result(NB_LOAD_WARNING)\n",
       "    }\n",
       "  }\n",
       "\n",
       "  if (root._bokeh_is_loading === 0) {\n",
       "    console.debug(\"Bokeh: BokehJS loaded, going straight to plotting\");\n",
       "    run_inline_js();\n",
       "  } else {\n",
       "    load_libs(css_urls, js_urls, function() {\n",
       "      console.debug(\"Bokeh: BokehJS plotting callback run at\", now());\n",
       "      run_inline_js();\n",
       "    });\n",
       "  }\n",
       "}(window));"
      ],
      "application/vnd.bokehjs_load.v0+json": "(function(root) {\n  function now() {\n    return new Date();\n  }\n\n  const force = true;\n\n  if (typeof root._bokeh_onload_callbacks === \"undefined\" || force === true) {\n    root._bokeh_onload_callbacks = [];\n    root._bokeh_is_loading = undefined;\n  }\n\n\n  if (typeof (root._bokeh_timeout) === \"undefined\" || force === true) {\n    root._bokeh_timeout = Date.now() + 5000;\n    root._bokeh_failed_load = false;\n  }\n\n  const NB_LOAD_WARNING = {'data': {'text/html':\n     \"<div style='background-color: #fdd'>\\n\"+\n     \"<p>\\n\"+\n     \"BokehJS does not appear to have successfully loaded. If loading BokehJS from CDN, this \\n\"+\n     \"may be due to a slow or bad network connection. Possible fixes:\\n\"+\n     \"</p>\\n\"+\n     \"<ul>\\n\"+\n     \"<li>re-rerun `output_notebook()` to attempt to load from CDN again, or</li>\\n\"+\n     \"<li>use INLINE resources instead, as so:</li>\\n\"+\n     \"</ul>\\n\"+\n     \"<code>\\n\"+\n     \"from bokeh.resources import INLINE\\n\"+\n     \"output_notebook(resources=INLINE)\\n\"+\n     \"</code>\\n\"+\n     \"</div>\"}};\n\n  function display_loaded() {\n    const el = document.getElementById(\"p1002\");\n    if (el != null) {\n      el.textContent = \"BokehJS is loading...\";\n    }\n    if (root.Bokeh !== undefined) {\n      if (el != null) {\n        el.textContent = \"BokehJS \" + root.Bokeh.version + \" successfully loaded.\";\n      }\n    } else if (Date.now() < root._bokeh_timeout) {\n      setTimeout(display_loaded, 100)\n    }\n  }\n\n  function run_callbacks() {\n    try {\n      root._bokeh_onload_callbacks.forEach(function(callback) {\n        if (callback != null)\n          callback();\n      });\n    } finally {\n      delete root._bokeh_onload_callbacks\n    }\n    console.debug(\"Bokeh: all callbacks have finished\");\n  }\n\n  function load_libs(css_urls, js_urls, callback) {\n    if (css_urls == null) css_urls = [];\n    if (js_urls == null) js_urls = [];\n\n    root._bokeh_onload_callbacks.push(callback);\n    if (root._bokeh_is_loading > 0) {\n      console.debug(\"Bokeh: BokehJS is being loaded, scheduling callback at\", now());\n      return null;\n    }\n    if (js_urls == null || js_urls.length === 0) {\n      run_callbacks();\n      return null;\n    }\n    console.debug(\"Bokeh: BokehJS not loaded, scheduling load and callback at\", now());\n    root._bokeh_is_loading = css_urls.length + js_urls.length;\n\n    function on_load() {\n      root._bokeh_is_loading--;\n      if (root._bokeh_is_loading === 0) {\n        console.debug(\"Bokeh: all BokehJS libraries/stylesheets loaded\");\n        run_callbacks()\n      }\n    }\n\n    function on_error(url) {\n      console.error(\"failed to load \" + url);\n    }\n\n    for (let i = 0; i < css_urls.length; i++) {\n      const url = css_urls[i];\n      const element = document.createElement(\"link\");\n      element.onload = on_load;\n      element.onerror = on_error.bind(null, url);\n      element.rel = \"stylesheet\";\n      element.type = \"text/css\";\n      element.href = url;\n      console.debug(\"Bokeh: injecting link tag for BokehJS stylesheet: \", url);\n      document.body.appendChild(element);\n    }\n\n    for (let i = 0; i < js_urls.length; i++) {\n      const url = js_urls[i];\n      const element = document.createElement('script');\n      element.onload = on_load;\n      element.onerror = on_error.bind(null, url);\n      element.async = false;\n      element.src = url;\n      console.debug(\"Bokeh: injecting script tag for BokehJS library: \", url);\n      document.head.appendChild(element);\n    }\n  };\n\n  function inject_raw_css(css) {\n    const element = document.createElement(\"style\");\n    element.appendChild(document.createTextNode(css));\n    document.body.appendChild(element);\n  }\n\n  const js_urls = [\"https://cdn.bokeh.org/bokeh/release/bokeh-3.1.0.min.js\", \"https://cdn.bokeh.org/bokeh/release/bokeh-gl-3.1.0.min.js\", \"https://cdn.bokeh.org/bokeh/release/bokeh-widgets-3.1.0.min.js\", \"https://cdn.bokeh.org/bokeh/release/bokeh-tables-3.1.0.min.js\", \"https://cdn.bokeh.org/bokeh/release/bokeh-mathjax-3.1.0.min.js\"];\n  const css_urls = [];\n\n  const inline_js = [    function(Bokeh) {\n      Bokeh.set_log_level(\"info\");\n    },\nfunction(Bokeh) {\n    }\n  ];\n\n  function run_inline_js() {\n    if (root.Bokeh !== undefined || force === true) {\n          for (let i = 0; i < inline_js.length; i++) {\n      inline_js[i].call(root, root.Bokeh);\n    }\nif (force === true) {\n        display_loaded();\n      }} else if (Date.now() < root._bokeh_timeout) {\n      setTimeout(run_inline_js, 100);\n    } else if (!root._bokeh_failed_load) {\n      console.log(\"Bokeh: BokehJS failed to load within specified timeout.\");\n      root._bokeh_failed_load = true;\n    } else if (force !== true) {\n      const cell = $(document.getElementById(\"p1002\")).parents('.cell').data().cell;\n      cell.output_area.append_execute_result(NB_LOAD_WARNING)\n    }\n  }\n\n  if (root._bokeh_is_loading === 0) {\n    console.debug(\"Bokeh: BokehJS loaded, going straight to plotting\");\n    run_inline_js();\n  } else {\n    load_libs(css_urls, js_urls, function() {\n      console.debug(\"Bokeh: BokehJS plotting callback run at\", now());\n      run_inline_js();\n    });\n  }\n}(window));"
     },
     "metadata": {},
     "output_type": "display_data"
    }
   ],
   "source": [
    "import datetime\n",
    "\n",
    "import pandas as pd\n",
    "import matplotlib.pyplot as plt\n",
    "import numpy as np\n",
    "import bokeh.models\n",
    "import bokeh.plotting\n",
    "import bokeh.io\n",
    "import bokeh.layouts\n",
    "import bokeh.palettes\n",
    "import bokeh.transform\n",
    "import bokeh.embed\n",
    "\n",
    "import sp_project.data_preparation.db_wetter2 as wetter2_data\n",
    "\n",
    "bokeh.io.output_notebook()"
   ]
  },
  {
   "cell_type": "markdown",
   "id": "e6cb17b1",
   "metadata": {},
   "source": [
    "### Get Data from DB"
   ]
  },
  {
   "cell_type": "code",
   "execution_count": 4,
   "id": "dc461832",
   "metadata": {},
   "outputs": [],
   "source": [
    "df_wetter2_daily = await wetter2_data.extract_data_daily()"
   ]
  },
  {
   "cell_type": "markdown",
   "id": "17fe7db9",
   "metadata": {},
   "source": [
    "### Statistical Analysis"
   ]
  },
  {
   "cell_type": "code",
   "execution_count": 5,
   "id": "3c87ddde",
   "metadata": {},
   "outputs": [
    {
     "data": {
      "text/plain": [
       "avg_temp       5.194223\n",
       "min_temp      -9.475058\n",
       "max_temp      18.756148\n",
       "rain           0.130281\n",
       "wind_speed     1.906958\n",
       "clouds        46.561179\n",
       "dtype: float64"
      ]
     },
     "execution_count": 5,
     "metadata": {},
     "output_type": "execute_result"
    }
   ],
   "source": [
    "df_wetter2_daily.mean()"
   ]
  },
  {
   "cell_type": "code",
   "execution_count": 6,
   "id": "0b6d4882",
   "metadata": {
    "scrolled": true
   },
   "outputs": [
    {
     "data": {
      "text/plain": [
       "avg_temp       56.343396\n",
       "min_temp       69.438785\n",
       "max_temp       69.997355\n",
       "rain            0.063863\n",
       "wind_speed      0.317184\n",
       "clouds        602.541415\n",
       "dtype: float64"
      ]
     },
     "execution_count": 6,
     "metadata": {},
     "output_type": "execute_result"
    }
   ],
   "source": [
    "df_wetter2_daily.var()"
   ]
  },
  {
   "cell_type": "code",
   "execution_count": 16,
   "id": "86a013f0",
   "metadata": {
    "scrolled": true
   },
   "outputs": [
    {
     "data": {
      "image/png": "[encoded data removed]",
      "text/plain": [
       "<Figure size 432x288 with 1 Axes>"
      ]
     },
     "metadata": {
      "needs_background": "light"
     },
     "output_type": "display_data"
    }
   ],
   "source": [
    "temp = df_wetter2_daily.avg_temp\n",
    "plt.boxplot(temp)\n",
    "plt.savefig(\"boxplot.png\")"
   ]
  },
  {
   "cell_type": "code",
   "execution_count": 17,
   "id": "55bca146",
   "metadata": {},
   "outputs": [
    {
     "data": {
      "image/png": "[encoded data removed]",
      "text/plain": [
       "<Figure size 432x288 with 1 Axes>"
      ]
     },
     "metadata": {
      "needs_background": "light"
     },
     "output_type": "display_data"
    }
   ],
   "source": [
    "plt.hist(temp, edgecolor='black', linewidth=1.2)\n",
    "plt.savefig(\"histsplot.png\")"
   ]
  },
  {
   "cell_type": "markdown",
   "id": "3da50ef8",
   "metadata": {},
   "source": [
    "### Rain and average Temperature"
   ]
  },
  {
   "cell_type": "code",
   "execution_count": 9,
   "id": "8f3b4d4e",
   "metadata": {},
   "outputs": [
    {
     "data": {
      "text/html": [
       "\n",
       "  <div id=\"736f5414-af92-4c48-bd9a-588aabcec298\" data-root-id=\"p1270\" style=\"display: contents;\"></div>\n"
      ]
     },
     "metadata": {},
     "output_type": "display_data"
    },
    {
     "data": {
      "application/javascript": [
       "(function(root) {\n",
       "  function embed_document(root) {\n",
       "  const docs_json = {\"1a83a7ce-be5d-4b9f-b435-9db74c77b356\":{\"version\":\"3.1.0\",\"title\":\"Bokeh Application\",\"defs\":[],\"roots\":[{\"type\":\"object\",\"name\":\"Column\",\"id\":\"p1270\",\"attributes\":{\"children\":[{\"type\":\"object\",\"name\":\"Figure\",\"id\":\"p1006\",\"attributes\":{\"width\":800,\"height\":300,\"x_range\":{\"type\":\"object\",\"name\":\"Range1d\",\"id\":\"p1015\",\"attributes\":{\"start\":1644969600000.0,\"end\":1648425600000.0}},\"y_range\":{\"type\":\"object\",\"name\":\"DataRange1d\",\"id\":\"p1008\"},\"x_scale\":{\"type\":\"object\",\"name\":\"LinearScale\",\"id\":\"p1019\"},\"y_scale\":{\"type\":\"object\",\"name\":\"LinearScale\",\"id\":\"p1021\"},\"extra_y_ranges\":{\"type\":\"map\",\"entries\":[[\"rain\",{\"type\":\"object\",\"name\":\"Range1d\",\"id\":\"p1217\",\"attributes\":{\"end\":5,\"bounds\":[0,null]}}]]},\"title\":{\"type\":\"object\",\"name\":\"Title\",\"id\":\"p1012\"},\"renderers\":[{\"type\":\"object\",\"name\":\"GlyphRenderer\",\"id\":\"p1224\",\"attributes\":{\"y_range_name\":\"rain\",\"data_source\":{\"type\":\"object\",\"name\":\"ColumnDataSource\",\"id\":\"p1003\",\"attributes\":{\"selected\":{\"type\":\"object\",\"name\":\"Selection\",\"id\":\"p1004\",\"attributes\":{\"indices\":[],\"line_indices\":[]}},\"selection_policy\":{\"type\":\"object\",\"name\":\"UnionRenderers\",\"id\":\"p1005\"},\"data\":{\"type\":\"map\",\"entries\":[[\"date\",{\"type\":\"ndarray\",\"array\":{\"type\":\"bytes\",\"data\":\"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\"},\"shape\":[862],\"dtype\":\"float64\",\"order\":\"little\"}],[\"avg_temp\",{\"type\":\"ndarray\",\"array\":{\"type\":\"bytes\",\"data\":\"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\"},\"shape\":[862],\"dtype\":\"float64\",\"order\":\"little\"}],[\"min_temp\",{\"type\":\"ndarray\",\"array\":{\"type\":\"bytes\",\"data\":\"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\"},\"shape\":[862],\"dtype\":\"float64\",\"order\":\"little\"}],[\"max_temp\",{\"type\":\"ndarray\",\"array\":{\"type\":\"bytes\",\"data\":\"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\"},\"shape\":[862],\"dtype\":\"float64\",\"order\":\"little\"}],[\"rain\",{\"type\":\"ndarray\",\"array\":{\"type\":\"bytes\",\"data\":\"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\"},\"shape\":[862],\"dtype\":\"float64\",\"order\":\"little\"}],[\"wind_speed\",{\"type\":\"ndarray\",\"array\":{\"type\":\"bytes\",\"data\":\"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\"},\"shape\":[862],\"dtype\":\"float64\",\"order\":\"little\"}],[\"clouds\",{\"type\":\"ndarray\",\"array\":{\"type\":\"bytes\",\"data\":\"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\"},\"shape\":[862],\"dtype\":\"float64\",\"order\":\"little\"}]]}}},\"view\":{\"type\":\"object\",\"name\":\"CDSView\",\"id\":\"p1225\",\"attributes\":{\"filter\":{\"type\":\"object\",\"name\":\"AllIndices\",\"id\":\"p1226\"}}},\"glyph\":{\"type\":\"object\",\"name\":\"VBar\",\"id\":\"p1221\",\"attributes\":{\"x\":{\"type\":\"field\",\"field\":\"date\"},\"width\":{\"type\":\"value\",\"value\":72000000.0},\"top\":{\"type\":\"field\",\"field\":\"rain\"},\"line_color\":{\"type\":\"value\",\"value\":\"#0072B2\"},\"fill_color\":{\"type\":\"value\",\"value\":\"#0072B2\"},\"hatch_color\":{\"type\":\"value\",\"value\":\"#0072B2\"}}},\"nonselection_glyph\":{\"type\":\"object\",\"name\":\"VBar\",\"id\":\"p1222\",\"attributes\":{\"x\":{\"type\":\"field\",\"field\":\"date\"},\"width\":{\"type\":\"value\",\"value\":72000000.0},\"top\":{\"type\":\"field\",\"field\":\"rain\"},\"line_color\":{\"type\":\"value\",\"value\":\"#0072B2\"},\"line_alpha\":{\"type\":\"value\",\"value\":0.1},\"fill_color\":{\"type\":\"value\",\"value\":\"#0072B2\"},\"fill_alpha\":{\"type\":\"value\",\"value\":0.1},\"hatch_color\":{\"type\":\"value\",\"value\":\"#0072B2\"},\"hatch_alpha\":{\"type\":\"value\",\"value\":0.1}}},\"muted_glyph\":{\"type\":\"object\",\"name\":\"VBar\",\"id\":\"p1223\",\"attributes\":{\"x\":{\"type\":\"field\",\"field\":\"date\"},\"width\":{\"type\":\"value\",\"value\":72000000.0},\"top\":{\"type\":\"field\",\"field\":\"rain\"},\"line_color\":{\"type\":\"value\",\"value\":\"#0072B2\"},\"line_alpha\":{\"type\":\"value\",\"value\":0.2},\"fill_color\":{\"type\":\"value\",\"value\":\"#0072B2\"},\"fill_alpha\":{\"type\":\"value\",\"value\":0.2},\"hatch_color\":{\"type\":\"value\",\"value\":\"#0072B2\"},\"hatch_alpha\":{\"type\":\"value\",\"value\":0.2}}}}},{\"type\":\"object\",\"name\":\"GlyphRenderer\",\"id\":\"p1235\",\"attributes\":{\"data_source\":{\"id\":\"p1003\"},\"view\":{\"type\":\"object\",\"name\":\"CDSView\",\"id\":\"p1236\",\"attributes\":{\"filter\":{\"type\":\"object\",\"name\":\"AllIndices\",\"id\":\"p1237\"}}},\"glyph\":{\"type\":\"object\",\"name\":\"Line\",\"id\":\"p1232\",\"attributes\":{\"x\":{\"type\":\"field\",\"field\":\"date\"},\"y\":{\"type\":\"field\",\"field\":\"avg_temp\"},\"line_color\":\"#D55E00\"}},\"nonselection_glyph\":{\"type\":\"object\",\"name\":\"Line\",\"id\":\"p1233\",\"attributes\":{\"x\":{\"type\":\"field\",\"field\":\"date\"},\"y\":{\"type\":\"field\",\"field\":\"avg_temp\"},\"line_color\":\"#D55E00\",\"line_alpha\":0.1}},\"muted_glyph\":{\"type\":\"object\",\"name\":\"Line\",\"id\":\"p1234\",\"attributes\":{\"x\":{\"type\":\"field\",\"field\":\"date\"},\"y\":{\"type\":\"field\",\"field\":\"avg_temp\"},\"line_color\":\"#D55E00\",\"line_alpha\":0.2}}}}],\"toolbar\":{\"type\":\"object\",\"name\":\"Toolbar\",\"id\":\"p1013\",\"attributes\":{\"tools\":[{\"type\":\"object\",\"name\":\"PanTool\",\"id\":\"p1073\",\"attributes\":{\"dimensions\":\"width\"}},{\"type\":\"object\",\"name\":\"WheelZoomTool\",\"id\":\"p1074\",\"attributes\":{\"dimensions\":\"width\"}},{\"type\":\"object\",\"name\":\"BoxZoomTool\",\"id\":\"p1075\",\"attributes\":{\"overlay\":{\"type\":\"object\",\"name\":\"BoxAnnotation\",\"id\":\"p1076\",\"attributes\":{\"syncable\":false,\"level\":\"overlay\",\"visible\":false,\"left_units\":\"canvas\",\"right_units\":\"canvas\",\"bottom_units\":\"canvas\",\"top_units\":\"canvas\",\"line_color\":\"black\",\"line_alpha\":1.0,\"line_width\":2,\"line_dash\":[4,4],\"fill_color\":\"lightgrey\",\"fill_alpha\":0.5}}}},{\"type\":\"object\",\"name\":\"SaveTool\",\"id\":\"p1077\"},{\"type\":\"object\",\"name\":\"ResetTool\",\"id\":\"p1078\"},{\"type\":\"object\",\"name\":\"HelpTool\",\"id\":\"p1079\"}]}},\"left\":[{\"type\":\"object\",\"name\":\"LinearAxis\",\"id\":\"p1066\",\"attributes\":{\"ticker\":{\"type\":\"object\",\"name\":\"BasicTicker\",\"id\":\"p1069\",\"attributes\":{\"mantissas\":[1,2,5]}},\"formatter\":{\"type\":\"object\",\"name\":\"BasicTickFormatter\",\"id\":\"p1068\"},\"axis_label\":\"Weather\",\"major_label_policy\":{\"type\":\"object\",\"name\":\"AllLabels\",\"id\":\"p1067\"}}}],\"right\":[{\"type\":\"object\",\"name\":\"LinearAxis\",\"id\":\"p1261\",\"attributes\":{\"y_range_name\":\"rain\",\"ticker\":{\"type\":\"object\",\"name\":\"BasicTicker\",\"id\":\"p1264\",\"attributes\":{\"mantissas\":[1,2,5]}},\"formatter\":{\"type\":\"object\",\"name\":\"BasicTickFormatter\",\"id\":\"p1263\"},\"axis_label\":\"rain [mm/h]\",\"axis_label_text_color\":\"navy\",\"major_label_policy\":{\"type\":\"object\",\"name\":\"AllLabels\",\"id\":\"p1262\"}}}],\"above\":[{\"type\":\"object\",\"name\":\"DatetimeAxis\",\"id\":\"p1023\",\"attributes\":{\"ticker\":{\"type\":\"object\",\"name\":\"DatetimeTicker\",\"id\":\"p1026\",\"attributes\":{\"num_minor_ticks\":5,\"tickers\":[{\"type\":\"object\",\"name\":\"AdaptiveTicker\",\"id\":\"p1027\",\"attributes\":{\"num_minor_ticks\":0,\"mantissas\":[1,2,5],\"max_interval\":500.0}},{\"type\":\"object\",\"name\":\"AdaptiveTicker\",\"id\":\"p1028\",\"attributes\":{\"num_minor_ticks\":0,\"base\":60,\"mantissas\":[1,2,5,10,15,20,30],\"min_interval\":1000.0,\"max_interval\":1800000.0}},{\"type\":\"object\",\"name\":\"AdaptiveTicker\",\"id\":\"p1029\",\"attributes\":{\"num_minor_ticks\":0,\"base\":24,\"mantissas\":[1,2,4,6,8,12],\"min_interval\":3600000.0,\"max_interval\":43200000.0}},{\"type\":\"object\",\"name\":\"DaysTicker\",\"id\":\"p1030\",\"attributes\":{\"days\":[1,2,3,4,5,6,7,8,9,10,11,12,13,14,15,16,17,18,19,20,21,22,23,24,25,26,27,28,29,30,31]}},{\"type\":\"object\",\"name\":\"DaysTicker\",\"id\":\"p1031\",\"attributes\":{\"days\":[1,4,7,10,13,16,19,22,25,28]}},{\"type\":\"object\",\"name\":\"DaysTicker\",\"id\":\"p1032\",\"attributes\":{\"days\":[1,8,15,22]}},{\"type\":\"object\",\"name\":\"DaysTicker\",\"id\":\"p1033\",\"attributes\":{\"days\":[1,15]}},{\"type\":\"object\",\"name\":\"MonthsTicker\",\"id\":\"p1034\",\"attributes\":{\"months\":[0,1,2,3,4,5,6,7,8,9,10,11]}},{\"type\":\"object\",\"name\":\"MonthsTicker\",\"id\":\"p1035\",\"attributes\":{\"months\":[0,2,4,6,8,10]}},{\"type\":\"object\",\"name\":\"MonthsTicker\",\"id\":\"p1036\",\"attributes\":{\"months\":[0,4,8]}},{\"type\":\"object\",\"name\":\"MonthsTicker\",\"id\":\"p1037\",\"attributes\":{\"months\":[0,6]}},{\"type\":\"object\",\"name\":\"YearsTicker\",\"id\":\"p1038\"}]}},\"formatter\":{\"type\":\"object\",\"name\":\"DatetimeTickFormatter\",\"id\":\"p1025\"},\"major_label_policy\":{\"type\":\"object\",\"name\":\"AllLabels\",\"id\":\"p1024\"}}}],\"center\":[{\"type\":\"object\",\"name\":\"Grid\",\"id\":\"p1065\",\"attributes\":{\"axis\":{\"id\":\"p1023\"}}},{\"type\":\"object\",\"name\":\"Grid\",\"id\":\"p1072\",\"attributes\":{\"dimension\":1,\"axis\":{\"id\":\"p1066\"}}},{\"type\":\"object\",\"name\":\"Legend\",\"id\":\"p1227\",\"attributes\":{\"location\":\"top_left\",\"items\":[{\"type\":\"object\",\"name\":\"LegendItem\",\"id\":\"p1228\",\"attributes\":{\"label\":{\"type\":\"value\",\"value\":\"Rain\"},\"renderers\":[{\"id\":\"p1224\"}]}},{\"type\":\"object\",\"name\":\"LegendItem\",\"id\":\"p1238\",\"attributes\":{\"label\":{\"type\":\"value\",\"value\":\"Temperature\"},\"renderers\":[{\"id\":\"p1235\"}]}}]}}]}},{\"type\":\"object\",\"name\":\"Figure\",\"id\":\"p1154\",\"attributes\":{\"width\":800,\"height\":130,\"x_range\":{\"type\":\"object\",\"name\":\"DataRange1d\",\"id\":\"p1156\"},\"y_range\":{\"id\":\"p1008\"},\"x_scale\":{\"type\":\"object\",\"name\":\"LinearScale\",\"id\":\"p1167\"},\"y_scale\":{\"type\":\"object\",\"name\":\"LinearScale\",\"id\":\"p1169\"},\"extra_y_ranges\":{\"type\":\"map\",\"entries\":[[\"rain\",{\"type\":\"object\",\"name\":\"Range1d\",\"id\":\"p1239\",\"attributes\":{\"end\":5,\"bounds\":[0,null]}}]]},\"title\":{\"type\":\"object\",\"name\":\"Title\",\"id\":\"p1157\",\"attributes\":{\"text\":\"Drag the middle and edges of the selection box to change the range above\"}},\"renderers\":[{\"type\":\"object\",\"name\":\"GlyphRenderer\",\"id\":\"p1246\",\"attributes\":{\"y_range_name\":\"rain\",\"data_source\":{\"id\":\"p1003\"},\"view\":{\"type\":\"object\",\"name\":\"CDSView\",\"id\":\"p1247\",\"attributes\":{\"filter\":{\"type\":\"object\",\"name\":\"AllIndices\",\"id\":\"p1248\"}}},\"glyph\":{\"type\":\"object\",\"name\":\"VBar\",\"id\":\"p1243\",\"attributes\":{\"x\":{\"type\":\"field\",\"field\":\"date\"},\"width\":{\"type\":\"value\",\"value\":72000000.0},\"top\":{\"type\":\"field\",\"field\":\"rain\"},\"line_color\":{\"type\":\"value\",\"value\":\"#0072B2\"},\"fill_color\":{\"type\":\"value\",\"value\":\"#0072B2\"},\"hatch_color\":{\"type\":\"value\",\"value\":\"#0072B2\"}}},\"nonselection_glyph\":{\"type\":\"object\",\"name\":\"VBar\",\"id\":\"p1244\",\"attributes\":{\"x\":{\"type\":\"field\",\"field\":\"date\"},\"width\":{\"type\":\"value\",\"value\":72000000.0},\"top\":{\"type\":\"field\",\"field\":\"rain\"},\"line_color\":{\"type\":\"value\",\"value\":\"#0072B2\"},\"line_alpha\":{\"type\":\"value\",\"value\":0.1},\"fill_color\":{\"type\":\"value\",\"value\":\"#0072B2\"},\"fill_alpha\":{\"type\":\"value\",\"value\":0.1},\"hatch_color\":{\"type\":\"value\",\"value\":\"#0072B2\"},\"hatch_alpha\":{\"type\":\"value\",\"value\":0.1}}},\"muted_glyph\":{\"type\":\"object\",\"name\":\"VBar\",\"id\":\"p1245\",\"attributes\":{\"x\":{\"type\":\"field\",\"field\":\"date\"},\"width\":{\"type\":\"value\",\"value\":72000000.0},\"top\":{\"type\":\"field\",\"field\":\"rain\"},\"line_color\":{\"type\":\"value\",\"value\":\"#0072B2\"},\"line_alpha\":{\"type\":\"value\",\"value\":0.2},\"fill_color\":{\"type\":\"value\",\"value\":\"#0072B2\"},\"fill_alpha\":{\"type\":\"value\",\"value\":0.2},\"hatch_color\":{\"type\":\"value\",\"value\":\"#0072B2\"},\"hatch_alpha\":{\"type\":\"value\",\"value\":0.2}}}}},{\"type\":\"object\",\"name\":\"GlyphRenderer\",\"id\":\"p1257\",\"attributes\":{\"data_source\":{\"id\":\"p1003\"},\"view\":{\"type\":\"object\",\"name\":\"CDSView\",\"id\":\"p1258\",\"attributes\":{\"filter\":{\"type\":\"object\",\"name\":\"AllIndices\",\"id\":\"p1259\"}}},\"glyph\":{\"type\":\"object\",\"name\":\"Line\",\"id\":\"p1254\",\"attributes\":{\"x\":{\"type\":\"field\",\"field\":\"date\"},\"y\":{\"type\":\"field\",\"field\":\"avg_temp\"},\"line_color\":\"#D55E00\"}},\"nonselection_glyph\":{\"type\":\"object\",\"name\":\"Line\",\"id\":\"p1255\",\"attributes\":{\"x\":{\"type\":\"field\",\"field\":\"date\"},\"y\":{\"type\":\"field\",\"field\":\"avg_temp\"},\"line_color\":\"#D55E00\",\"line_alpha\":0.1}},\"muted_glyph\":{\"type\":\"object\",\"name\":\"Line\",\"id\":\"p1256\",\"attributes\":{\"x\":{\"type\":\"field\",\"field\":\"date\"},\"y\":{\"type\":\"field\",\"field\":\"avg_temp\"},\"line_color\":\"#D55E00\",\"line_alpha\":0.2}}}}],\"toolbar\":{\"type\":\"object\",\"name\":\"Toolbar\",\"id\":\"p1162\",\"attributes\":{\"tools\":[{\"type\":\"object\",\"name\":\"HoverTool\",\"id\":\"p1214\",\"attributes\":{\"renderers\":\"auto\"}},{\"type\":\"object\",\"name\":\"RangeTool\",\"id\":\"p1265\",\"attributes\":{\"x_range\":{\"id\":\"p1015\"},\"overlay\":{\"type\":\"object\",\"name\":\"BoxAnnotation\",\"id\":\"p1266\",\"attributes\":{\"syncable\":false,\"level\":\"overlay\",\"propagate_hover\":true,\"editable\":true,\"line_color\":\"black\",\"line_alpha\":1.0,\"line_width\":0.5,\"line_dash\":[2,2],\"fill_color\":\"navy\",\"fill_alpha\":0.2}}}}]}},\"toolbar_location\":null,\"below\":[{\"type\":\"object\",\"name\":\"DatetimeAxis\",\"id\":\"p1171\",\"attributes\":{\"ticker\":{\"type\":\"object\",\"name\":\"DatetimeTicker\",\"id\":\"p1174\",\"attributes\":{\"num_minor_ticks\":5,\"tickers\":[{\"type\":\"object\",\"name\":\"AdaptiveTicker\",\"id\":\"p1175\",\"attributes\":{\"num_minor_ticks\":0,\"mantissas\":[1,2,5],\"max_interval\":500.0}},{\"type\":\"object\",\"name\":\"AdaptiveTicker\",\"id\":\"p1176\",\"attributes\":{\"num_minor_ticks\":0,\"base\":60,\"mantissas\":[1,2,5,10,15,20,30],\"min_interval\":1000.0,\"max_interval\":1800000.0}},{\"type\":\"object\",\"name\":\"AdaptiveTicker\",\"id\":\"p1177\",\"attributes\":{\"num_minor_ticks\":0,\"base\":24,\"mantissas\":[1,2,4,6,8,12],\"min_interval\":3600000.0,\"max_interval\":43200000.0}},{\"type\":\"object\",\"name\":\"DaysTicker\",\"id\":\"p1178\",\"attributes\":{\"days\":[1,2,3,4,5,6,7,8,9,10,11,12,13,14,15,16,17,18,19,20,21,22,23,24,25,26,27,28,29,30,31]}},{\"type\":\"object\",\"name\":\"DaysTicker\",\"id\":\"p1179\",\"attributes\":{\"days\":[1,4,7,10,13,16,19,22,25,28]}},{\"type\":\"object\",\"name\":\"DaysTicker\",\"id\":\"p1180\",\"attributes\":{\"days\":[1,8,15,22]}},{\"type\":\"object\",\"name\":\"DaysTicker\",\"id\":\"p1181\",\"attributes\":{\"days\":[1,15]}},{\"type\":\"object\",\"name\":\"MonthsTicker\",\"id\":\"p1182\",\"attributes\":{\"months\":[0,1,2,3,4,5,6,7,8,9,10,11]}},{\"type\":\"object\",\"name\":\"MonthsTicker\",\"id\":\"p1183\",\"attributes\":{\"months\":[0,2,4,6,8,10]}},{\"type\":\"object\",\"name\":\"MonthsTicker\",\"id\":\"p1184\",\"attributes\":{\"months\":[0,4,8]}},{\"type\":\"object\",\"name\":\"MonthsTicker\",\"id\":\"p1185\",\"attributes\":{\"months\":[0,6]}},{\"type\":\"object\",\"name\":\"YearsTicker\",\"id\":\"p1186\"}]}},\"formatter\":{\"type\":\"object\",\"name\":\"DatetimeTickFormatter\",\"id\":\"p1173\"},\"major_label_policy\":{\"type\":\"object\",\"name\":\"AllLabels\",\"id\":\"p1172\"}}}],\"center\":[{\"type\":\"object\",\"name\":\"Grid\",\"id\":\"p1213\",\"attributes\":{\"axis\":{\"id\":\"p1171\"}}},{\"type\":\"object\",\"name\":\"Legend\",\"id\":\"p1249\",\"attributes\":{\"items\":[{\"type\":\"object\",\"name\":\"LegendItem\",\"id\":\"p1250\",\"attributes\":{\"label\":{\"type\":\"value\",\"value\":\"Rain\"},\"renderers\":[{\"id\":\"p1246\"}]}},{\"type\":\"object\",\"name\":\"LegendItem\",\"id\":\"p1260\",\"attributes\":{\"label\":{\"type\":\"value\",\"value\":\"Temperature\"},\"renderers\":[{\"id\":\"p1257\"}]}}]}}]}}]}}],\"callbacks\":{\"type\":\"map\"}}};\n",
       "  const render_items = [{\"docid\":\"1a83a7ce-be5d-4b9f-b435-9db74c77b356\",\"roots\":{\"p1270\":\"736f5414-af92-4c48-bd9a-588aabcec298\"},\"root_ids\":[\"p1270\"]}];\n",
       "  root.Bokeh.embed.embed_items_notebook(docs_json, render_items);\n",
       "  }\n",
       "  if (root.Bokeh !== undefined) {\n",
       "    embed_document(root);\n",
       "  } else {\n",
       "    let attempts = 0;\n",
       "    const timer = setInterval(function(root) {\n",
       "      if (root.Bokeh !== undefined) {\n",
       "        clearInterval(timer);\n",
       "        embed_document(root);\n",
       "      } else {\n",
       "        attempts++;\n",
       "        if (attempts > 100) {\n",
       "          clearInterval(timer);\n",
       "          console.log(\"Bokeh: ERROR: Unable to run BokehJS code because BokehJS library is missing\");\n",
       "        }\n",
       "      }\n",
       "    }, 10, root)\n",
       "  }\n",
       "})(window);"
      ],
      "application/vnd.bokehjs_exec.v0+json": ""
     },
     "metadata": {
      "application/vnd.bokehjs_exec.v0+json": {
       "id": "p1270"
      }
     },
     "output_type": "display_data"
    }
   ],
   "source": [
    "day_source = bokeh.models.ColumnDataSource(data=df_wetter2_daily)\n",
    "\n",
    "column_names = \"avg_temp rain\".split()\n",
    "colors = \"red blue\".split()\n",
    "\n",
    "middle = df_wetter2_daily.index[len(df_wetter2_daily)//2]\n",
    "selection_range = pd.Timedelta(\"20 days\")\n",
    "\n",
    "# Selected-Part-Plot\n",
    "p = bokeh.plotting.figure(\n",
    "    height=300, \n",
    "    width=800, \n",
    "    x_axis_type=\"datetime\", \n",
    "    x_axis_location=\"above\", \n",
    "    x_range=(middle-selection_range, middle+selection_range),\n",
    ")\n",
    "\n",
    "for tool in [bokeh.models.PanTool, bokeh.models.WheelZoomTool]:\n",
    "    p.select_one(tool).dimensions = \"width\"\n",
    "\n",
    "p.yaxis.axis_label = 'Weather'\n",
    "\n",
    "# Overview-Plot\n",
    "overview = bokeh.plotting.figure(\n",
    "    title=\"Drag the middle and edges of the selection box to change the range above\",\n",
    "    height=130, \n",
    "    width=800, \n",
    "    y_range=p.y_range,\n",
    "    x_axis_type=\"datetime\",\n",
    "    y_axis_type=None,\n",
    "    tools=\"hover\", \n",
    "    toolbar_location=None, \n",
    ")\n",
    "\n",
    "for fig in [p, overview]:\n",
    "    fig.extra_y_ranges['rain'] = bokeh.models.Range1d(0, 5, bounds=(0, None))\n",
    "    \n",
    "    fig.vbar(\n",
    "        x='date',\n",
    "        top=\"rain\",\n",
    "        source=day_source,    \n",
    "        color=\"#0072B2\",\n",
    "        legend_label=\"Rain\",\n",
    "        width=pd.Timedelta(hours=20),\n",
    "        y_range_name=\"rain\",\n",
    "    )\n",
    "\n",
    "    fig.line(\n",
    "        x='date',\n",
    "        y=\"avg_temp\",\n",
    "        source=day_source,    \n",
    "        color=\"#D55E00\",\n",
    "        legend_label=\"Temperature\",\n",
    "    )\n",
    "\n",
    "ax2 = bokeh.models.LinearAxis(y_range_name=\"rain\", axis_label=\"rain [mm/h]\")\n",
    "ax2.axis_label_text_color =\"navy\"\n",
    "p.add_layout(ax2, 'right')\n",
    "    \n",
    "p.legend.location = \"top_left\"\n",
    "\n",
    "range_tool = bokeh.models.RangeTool(x_range=p.x_range)\n",
    "range_tool.overlay.fill_color = \"navy\"\n",
    "range_tool.overlay.fill_alpha = 0.2\n",
    "\n",
    "overview.ygrid.grid_line_color = None\n",
    "overview.add_tools(range_tool)\n",
    "\n",
    "line_fig = bokeh.layouts.column(p, overview)\n",
    "\n",
    "bokeh.plotting.show(line_fig)"
   ]
  },
  {
   "cell_type": "code",
   "execution_count": null,
   "id": "c9e7f09c",
   "metadata": {},
   "outputs": [],
   "source": []
  }
 ],
 "metadata": {
  "kernelspec": {
   "display_name": "Python 3 (ipykernel)",
   "language": "python",
   "name": "python3"
  },
  "language_info": {
   "codemirror_mode": {
    "name": "ipython",
    "version": 3
   },
   "file_extension": ".py",
   "mimetype": "text/x-python",
   "name": "python",
   "nbconvert_exporter": "python",
   "pygments_lexer": "ipython3",
   "version": "3.10.4"
  }
 },
 "nbformat": 4,
 "nbformat_minor": 5
}
