{
 "cells": [
  {
   "cell_type": "code",
   "execution_count": 25,
   "id": "87237a45",
   "metadata": {},
   "outputs": [],
   "source": [
    "import asyncio\n",
    "import re  # regular-expression\n",
    "import json\n",
    "import datetime\n",
    "\n",
    "from motor.motor_asyncio import AsyncIOMotorClient\n",
    "from pymongo.server_api import ServerApi\n",
    "import httpx\n",
    "import bs4  # beautifulsoup\n",
    "import pandas as pd\n",
    "import tqdm\n"
   ]
  },
  {
   "cell_type": "code",
   "execution_count": 26,
   "id": "c9bc2bb8",
   "metadata": {},
   "outputs": [],
   "source": [
    "country = \"10YCH-SWISSGRIDZ\"\n",
    "end_date = datetime.datetime.now().astimezone()\n",
    "start_date = end_date - datetime.timedelta(days=3)"
   ]
  },
  {
   "cell_type": "code",
   "execution_count": 27,
   "id": "e88d509c",
   "metadata": {},
   "outputs": [],
   "source": [
    "productiontypes = [\n",
    "    (\"productionType.values\", f\"B{k:02}\")\n",
    "    for k in range(1, 21)\n",
    "]"
   ]
  },
  {
   "cell_type": "code",
   "execution_count": 28,
   "id": "f0e1e05a",
   "metadata": {},
   "outputs": [
    {
     "data": {
      "text/plain": [
       "[('productionType.values', 'B01'),\n",
       " ('productionType.values', 'B02'),\n",
       " ('productionType.values', 'B03'),\n",
       " ('productionType.values', 'B04'),\n",
       " ('productionType.values', 'B05'),\n",
       " ('productionType.values', 'B06'),\n",
       " ('productionType.values', 'B07'),\n",
       " ('productionType.values', 'B08'),\n",
       " ('productionType.values', 'B09'),\n",
       " ('productionType.values', 'B10'),\n",
       " ('productionType.values', 'B11'),\n",
       " ('productionType.values', 'B12'),\n",
       " ('productionType.values', 'B13'),\n",
       " ('productionType.values', 'B14'),\n",
       " ('productionType.values', 'B15'),\n",
       " ('productionType.values', 'B16'),\n",
       " ('productionType.values', 'B17'),\n",
       " ('productionType.values', 'B18'),\n",
       " ('productionType.values', 'B19'),\n",
       " ('productionType.values', 'B20')]"
      ]
     },
     "execution_count": 28,
     "metadata": {},
     "output_type": "execute_result"
    }
   ],
   "source": [
    "productiontypes"
   ]
  },
  {
   "cell_type": "code",
   "execution_count": null,
   "id": "2312c87b",
   "metadata": {},
   "outputs": [],
   "source": []
  },
  {
   "cell_type": "code",
   "execution_count": 29,
   "id": "b436fa28",
   "metadata": {},
   "outputs": [],
   "source": [
    "\"\"\"Access the website with the needed parameters; \n",
    "select the interesting data from the json-document and create a pandas-dataFrame;\n",
    "return a pandas-dataFrame with the location-, time- and weather-data\"\"\"\n",
    "\n",
    "# There are 20 different productiontypes\n",
    "productiontypes = [\n",
    "    (\"productionType.values\", f\"B{k:02}\")\n",
    "    for k in range(1, 20)\n",
    "]\n",
    "\n",
    "async with httpx.AsyncClient(\n",
    "    base_url=\"https://transparency.entsoe.eu\",\n",
    ") as client:\n",
    "    res = await client.get(\n",
    "        url=\"/generation/r2/actualGenerationPerProductionType/show\",\n",
    "        params=list({\n",
    "            \"areaType\": \"CTY\",\n",
    "            \"viewType\": \"GRAPH\",\n",
    "            \"dateTime.dateTime\": f\"{date:%d.%m.%Y} 00:00|UTC|DAYTIMERANGE\",\n",
    "            \"dateTime.endDateTime\": f\"{date:%d.%m.%Y} 00:00|UTC|DAYTIMERANGE\",\n",
    "            \"dateTime.timezone\": \"UTC\",\n",
    "            \"area.values\": f\"CTY|{country}!CTY|{country}\",\n",
    "        }.items()) + productiontypes,\n",
    "        headers={\"X-Requested-With\": \"XMLHttpRequest\"},\n",
    "    )\n",
    "\n",
    "# make sure the content is UTF-8 and parse the content with bs4\n",
    "assert res.headers[\"content-type\"] == \"text/html;charset=UTF-8\", res.headers[\"content-type\"]\n",
    "soup = bs4.BeautifulSoup(res.content.decode(\"utf-8\"))\n",
    "\n",
    "# select only the part 'script' and the chart-list of the http-file\n",
    "javascript_str = soup.find(\"script\").text\n",
    "match = re.search(r\"var\\s+chart\\s*=\\s*({.*})\\s*;\", javascript_str, re.S)\n",
    "assert match is not None"
   ]
  },
  {
   "cell_type": "code",
   "execution_count": 49,
   "id": "56c45cf6",
   "metadata": {},
   "outputs": [
    {
     "data": {
      "text/plain": [
       "'\\n\\tvar chart = {\"chartKeys\":[\"val1\",\"val2\",\"val3\",\"val4\",\"val5\",\"val6\"],\"graphDesign\":{\"val6\":{\"title\":\"Wind Onshore  Generation\",\"serialChartType\":\"column\",\"fillColor\":\"#9aa64c\",\"fillAlpha\":1.0,\"lineColor\":\"#9aa64c\",\"lineAlpha\":0.0,\"lineThickness\":2,\"bulletType\":\"none\",\"bulletSize\":0,\"assignedAxis\":\"PRIMARY\",\"stackType\":\"regular\",\"unit\":\"\"},\"val5\":{\"title\":\"Solar  Generation\",\"serialChartType\":\"column\",\"fillColor\":\"#32b3a8\",\"fillAlpha\":1.0,\"lineColor\":\"#32b3a8\",\"lineAlpha\":0.0,\"lineThickness\":2,\"bulletType\":\"none\",\"bulletSize\":0,\"assignedAxis\":\"PRIMARY\",\"stackType\":\"regular\",\"unit\":\"\"},\"val4\":{\"title\":\"Nuclear  Generation\",\"serialChartType\":\"column\",\"fillColor\":\"#c8c8c8\",\"fillAlpha\":1.0,\"lineColor\":\"#c8c8c8\",\"lineAlpha\":0.0,\"lineThickness\":2,\"bulletType\":\"none\",\"bulletSize\":0,\"assignedAxis\":\"PRIMARY\",\"stackType\":\"regular\",\"unit\":\"\"},\"val3\":{\"title\":\"Hydro Water Reservoir  Generation\",\"serialChartType\":\"column\",\"fillColor\":\"#f7a0cc\",\"fillAlpha\":1.0,\"lineColor\":\"#f7a0cc\",\"lineAlpha\":0.0,\"lineThickness\":2,\"bulletType\":\"none\",\"bulletSize\":0,\"assignedAxis\":\"PRIMARY\",\"stackType\":\"regular\",\"unit\":\"\"},\"val2\":{\"title\":\"Hydro Run-of-river and poundage \\\\n\\\\n Generation\",\"serialChartType\":\"column\",\"fillColor\":\"#21a663\",\"fillAlpha\":1.0,\"lineColor\":\"#21a663\",\"lineAlpha\":0.0,\"lineThickness\":2,\"bulletType\":\"none\",\"bulletSize\":0,\"assignedAxis\":\"PRIMARY\",\"stackType\":\"regular\",\"unit\":\"\"},\"val1\":{\"title\":\"Hydro Pumped Storage  Generation\",\"serialChartType\":\"column\",\"fillColor\":\"#438cd6\",\"fillAlpha\":1.0,\"lineColor\":\"#438cd6\",\"lineAlpha\":0.0,\"lineThickness\":2,\"bulletType\":\"none\",\"bulletSize\":0,\"assignedAxis\":\"PRIMARY\",\"stackType\":\"regular\",\"unit\":\"\"}},\"chartsCount\":6,\"categoryName\":\"cat\",\"chartDesign\":{\"showTitle\":false,\"titleFontSize\":0,\"showLegend\":false,\"animationDuration\":0.0,\"tooManyValues\":false,\"chartType\":\"serial\",\"showXAxis\":true,\"showXAxisLabels\":true,\"xAxisTitle\":\"Time [Hours]\",\"xAxisLabelRotation\":0,\"labelFrequency\":1,\"xAxisPosition\":\"bottom\",\"showYAxis\":true,\"showYAxisLabels\":true,\"yAxisTitle\":\"Net Generation [MW]\",\"showSecondaryYAxis\":false,\"showSecondaryYAxisLabels\":false,\"showWholeGraph\":false,\"showCursor\":true,\"cursorTextColor\":\"#000\",\"cursorColor\":\"#FDC400\",\"columnWidth\":0.8,\"columnSpacing\":5,\"showGraphTitles\":true,\"customBalloonValues\":false,\"axisAbsoluteValuesLabels\":false,\"autoMargins\":true,\"marginTop\":20,\"marginBottom\":20,\"marginLeft\":20,\"marginRight\":20,\"showNoDataLabel\":false},\"chartData\":[{\"val6\":\"6\",\"val5\":\"0\",\"val4\":\"3026\",\"val3\":\"878\",\"val2\":\"125\",\"cat\":\"00:00\",\"val1\":\"493\"},{\"val6\":\"5\",\"val5\":\"0\",\"val4\":\"3028\",\"val3\":\"238\",\"val2\":\"120\",\"cat\":\"01:00\",\"val1\":\"198\"},{\"val6\":\"4\",\"val5\":\"0\",\"val4\":\"3027\",\"val3\":\"189\",\"val2\":\"116\",\"cat\":\"02:00\",\"val1\":\"236\"},{\"val6\":\"3\",\"val5\":\"0\",\"val4\":\"3027\",\"val3\":\"178\",\"val2\":\"119\",\"cat\":\"03:00\",\"val1\":\"161\"},{\"val6\":\"2\",\"val5\":\"0\",\"val4\":\"3025\",\"val3\":\"247\",\"val2\":\"128\",\"cat\":\"04:00\",\"val1\":\"254\"},{\"val6\":\"1\",\"val5\":\"0\",\"val4\":\"3026\",\"val3\":\"432\",\"val2\":\"131\",\"cat\":\"05:00\",\"val1\":\"304\"},{\"val6\":\"1\",\"val5\":\"75\",\"val4\":\"3026\",\"val3\":\"1004\",\"val2\":\"139\",\"cat\":\"06:00\",\"val1\":\"282\"},{\"val6\":\"1\",\"val5\":\"355\",\"val4\":\"3026\",\"val3\":\"1216\",\"val2\":\"145\",\"cat\":\"07:00\",\"val1\":\"116\"},{\"val6\":\"3\",\"val5\":\"700\",\"val4\":\"3027\",\"val3\":\"542\",\"val2\":\"145\",\"cat\":\"08:00\",\"val1\":\"122\"},{\"val6\":\"3\",\"val5\":\"447\",\"val4\":\"3026\",\"val3\":\"428\",\"val2\":\"135\",\"cat\":\"09:00\",\"val1\":\"126\"},{\"val6\":\"3\",\"val5\":\"219\",\"val4\":\"3025\",\"val3\":\"552\",\"val2\":\"125\",\"cat\":\"10:00\",\"val1\":\"230\"},{\"val6\":\"4\",\"val5\":\"249\",\"val4\":\"3025\",\"val3\":\"413\",\"val2\":\"119\",\"cat\":\"11:00\",\"val1\":\"271\"},{\"val6\":\"4\",\"val5\":\"325\",\"val4\":\"3024\",\"val3\":\"296\",\"val2\":\"117\",\"cat\":\"12:00\",\"val1\":\"110\"},{\"val6\":\"7\",\"val5\":\"273\",\"val4\":\"3024\",\"val3\":\"171\",\"val2\":\"114\",\"cat\":\"13:00\",\"val1\":\"59\"},{\"val6\":\"7\",\"val5\":\"314\",\"val4\":\"3024\",\"val3\":\"197\",\"val2\":\"114\",\"cat\":\"14:00\",\"val1\":\"27\"},{\"val6\":\"8\",\"val5\":\"177\",\"val4\":\"3024\",\"val3\":\"392\",\"val2\":\"116\",\"cat\":\"15:00\",\"val1\":\"33\"},{\"val6\":\"9\",\"val5\":\"151\",\"val4\":\"3026\",\"val3\":\"853\",\"val2\":\"121\",\"cat\":\"16:00\",\"val1\":\"369\"},{\"val6\":\"8\",\"val5\":\"12\",\"val4\":\"3028\",\"val3\":\"2178\",\"val2\":\"127\",\"cat\":\"17:00\",\"val1\":\"1441\"},{\"val6\":\"7\",\"val5\":\"0\",\"val4\":\"3028\",\"val3\":\"2368\",\"val2\":\"127\",\"cat\":\"18:00\",\"val1\":\"1653\"},{\"val6\":\"6\",\"val5\":\"0\",\"val4\":\"3029\",\"val3\":\"2381\",\"val2\":\"128\",\"cat\":\"19:00\",\"val1\":\"1729\"},{\"val6\":\"4\",\"val5\":\"0\",\"val4\":\"3026\",\"val3\":\"2054\",\"val2\":\"125\",\"cat\":\"20:00\",\"val1\":\"1761\"},{\"val6\":\"5\",\"val5\":\"0\",\"val4\":\"3029\",\"val3\":\"1290\",\"val2\":\"127\",\"cat\":\"21:00\",\"val1\":\"1195\"},{\"val6\":\"3\",\"val5\":\"0\",\"val4\":\"3027\",\"val3\":\"962\",\"val2\":\"125\",\"cat\":\"22:00\",\"val1\":\"573\"},{\"val6\":\"2\",\"val5\":\"0\",\"val4\":\"3028\",\"val3\":\"724\",\"val2\":\"126\",\"cat\":\"23:00\",\"val1\":\"407\"}]};\\n'"
      ]
     },
     "execution_count": 49,
     "metadata": {},
     "output_type": "execute_result"
    }
   ],
   "source": [
    "javascript_str"
   ]
  },
  {
   "cell_type": "code",
   "execution_count": 35,
   "id": "e16eb841",
   "metadata": {},
   "outputs": [],
   "source": [
    "# returns the first element of the group\n",
    "data = json.loads(match.group(1))\n",
    "\n",
    "# defines the columns for the dataframe\n",
    "columns = {\n",
    "    k: \" \".join(v[\"title\"].split())\n",
    "    for k, v in\n",
    "    data[\"graphDesign\"].items()\n",
    "}\n",
    "\n",
    "df = pd.DataFrame(\n",
    "    data[\"chartData\"]\n",
    ").set_index(data[\"categoryName\"]).astype(float).rename(columns=columns)\n",
    "\n",
    "# combine time with date to get a real timestamp\n",
    "df = df.set_index(pd.MultiIndex.from_arrays(\n",
    "    [\n",
    "        [country]*df.shape[0],\n",
    "        df.index.to_series().apply(\n",
    "            lambda v: datetime.datetime.combine(date, datetime.time.fromisoformat(v))\n",
    "        ).dt.tz_localize(\"UTC\"),\n",
    "    ],\n",
    "    names=[\"country\", \"datetime\"],\n",
    "))"
   ]
  },
  {
   "cell_type": "code",
   "execution_count": 59,
   "id": "83aaa0fb",
   "metadata": {},
   "outputs": [
    {
     "data": {
      "text/plain": [
       "'Wind Onshore  Generation'"
      ]
     },
     "execution_count": 59,
     "metadata": {},
     "output_type": "execute_result"
    }
   ],
   "source": [
    "data[\"graphDesign\"][\"val6\"][\"title\"]"
   ]
  },
  {
   "cell_type": "code",
   "execution_count": null,
   "id": "8bb00a6f",
   "metadata": {},
   "outputs": [],
   "source": []
  }
 ],
 "metadata": {
  "kernelspec": {
   "display_name": "Python 3 (ipykernel)",
   "language": "python",
   "name": "python3"
  },
  "language_info": {
   "codemirror_mode": {
    "name": "ipython",
    "version": 3
   },
   "file_extension": ".py",
   "mimetype": "text/x-python",
   "name": "python",
   "nbconvert_exporter": "python",
   "pygments_lexer": "ipython3",
   "version": "3.10.4"
  }
 },
 "nbformat": 4,
 "nbformat_minor": 5
}
