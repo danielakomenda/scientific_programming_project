{
 "cells": [
  {
   "cell_type": "markdown",
   "id": "6617c540",
   "metadata": {},
   "source": [
    "Sets an index in MongoDB with the coordinates and the datetime"
   ]
  },
  {
   "cell_type": "code",
   "execution_count": null,
   "id": "20a930a6",
   "metadata": {},
   "outputs": [],
   "source": [
    "import pymongo"
   ]
  },
  {
   "cell_type": "code",
   "execution_count": 5,
   "id": "b8df4855",
   "metadata": {},
   "outputs": [],
   "source": [
    "async def db_index_openweather_collection(db):\n",
    "\n",
    "    weather_collection = db.weather\n",
    "\n",
    "    if False: # has to be set \"True\" if you want to use the function\n",
    "        await weather_collection.create_index([\n",
    "            (\"lon\", pymongo.ASCENDING),\n",
    "            (\"lat\", pymongo.ASCENDING),\n",
    "            (\"dt\", pymongo.ASCENDING)\n",
    "        ], unique=True)"
   ]
  },
  {
   "cell_type": "code",
   "execution_count": 6,
   "id": "c8521dc2",
   "metadata": {},
   "outputs": [],
   "source": [
    "async def db_index_wetter2_collection(db):\n",
    "\n",
    "    wetter2_collection = db.wetter2\n",
    "\n",
    "    if False: # has to be set \"True\" if you want to use the function\n",
    "        await wetter2_collection.create_index([\n",
    "            (\"location\", pymongo.ASCENDING),\n",
    "            (\"datetime\", pymongo.ASCENDING),\n",
    "        ], unique=True)"
   ]
  },
  {
   "cell_type": "code",
   "execution_count": 7,
   "id": "068f8b3c",
   "metadata": {},
   "outputs": [],
   "source": [
    "async def db_index_energy_collection(db):\n",
    "\n",
    "    energy_collection = db.energy\n",
    "\n",
    "    if False: # has to be set \"True\" if you want to use the function\n",
    "        await energy_collection.create_index([\n",
    "            (\"Country\", pymongo.ASCENDING),\n",
    "            (\"Datetime\", pymongo.ASCENDING),\n",
    "        ], unique=True)"
   ]
  },
  {
   "cell_type": "code",
   "execution_count": null,
   "id": "f53754f3",
   "metadata": {},
   "outputs": [],
   "source": []
  }
 ],
 "metadata": {
  "kernelspec": {
   "display_name": "Python 3 (ipykernel)",
   "language": "python",
   "name": "python3"
  },
  "language_info": {
   "codemirror_mode": {
    "name": "ipython",
    "version": 3
   },
   "file_extension": ".py",
   "mimetype": "text/x-python",
   "name": "python",
   "nbconvert_exporter": "python",
   "pygments_lexer": "ipython3",
   "version": "3.10.4"
  }
 },
 "nbformat": 4,
 "nbformat_minor": 5
}
