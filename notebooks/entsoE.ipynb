{
 "cells": [
  {
   "cell_type": "code",
   "execution_count": 23,
   "id": "5dc96c6d",
   "metadata": {},
   "outputs": [],
   "source": [
    "import re\n",
    "import json\n",
    "\n",
    "import httpx\n",
    "import trio\n",
    "import bs4\n",
    "import pandas as pd\n",
    "import matplotlib.pyplot as plt\n",
    "\n",
    "%autoawait trio"
   ]
  },
  {
   "cell_type": "code",
   "execution_count": 14,
   "id": "0aff136d",
   "metadata": {},
   "outputs": [],
   "source": [
    "productiontypes = [\n",
    "    (\"productionType.values\", f\"B{k:02}\")\n",
    "    for k in range(1,20)\n",
    "]"
   ]
  },
  {
   "cell_type": "code",
   "execution_count": 15,
   "id": "20a1d793",
   "metadata": {},
   "outputs": [],
   "source": [
    "async with httpx.AsyncClient(\n",
    "    base_url=\"https://transparency.entsoe.eu\",\n",
    ") as client:\n",
    "    res = await client.get(\n",
    "        url=\"/generation/r2/actualGenerationPerProductionType/show\",\n",
    "        params=list({\n",
    "            \"areaType\": \"BZN\",\n",
    "            \"viewType\": \"GRAPH\",\n",
    "            \"dateTime.dateTime\": \"23.03.2023 00:00|CET|DAYTIMERANGE\",\n",
    "            \"dateTime.endDateTime\": \"23.03.2023 00:00|CET|DAYTIMERANGE\",\n",
    "            \"dateTime.timezone\": \"CET_CEST\",\n",
    "            \"area.values\": \"CTY|10YCH-SWISSGRIDZ!BZN|10YCH-SWISSGRIDZ\",\n",
    "        }.items()) + productiontypes,\n",
    "        headers={\"X-Requested-With\": \"XMLHttpRequest\"},\n",
    "    )"
   ]
  },
  {
   "cell_type": "code",
   "execution_count": 16,
   "id": "4a0d80f7",
   "metadata": {
    "scrolled": false
   },
   "outputs": [],
   "source": [
    "assert res.headers[\"content-type\"] == \"text/html;charset=UTF-8\"\n",
    "soup = bs4.BeautifulSoup(res.content.decode(\"utf-8\"))"
   ]
  },
  {
   "cell_type": "code",
   "execution_count": 17,
   "id": "175f2b2e",
   "metadata": {
    "scrolled": false
   },
   "outputs": [],
   "source": [
    "javascript_str = soup.find(\"script\").text\n",
    "match = re.search(r\"var\\s+chart\\s*=\\s*(\\{.*\\})\\s*;\", javascript_str, re.S)\n",
    "assert match is not None"
   ]
  },
  {
   "cell_type": "code",
   "execution_count": 18,
   "id": "ca24f957",
   "metadata": {},
   "outputs": [],
   "source": [
    "data = json.loads(match.group(1))"
   ]
  },
  {
   "cell_type": "code",
   "execution_count": 20,
   "id": "a124dcf2",
   "metadata": {},
   "outputs": [],
   "source": [
    "columns = {\n",
    "    k:\" \".join(v[\"title\"].split())\n",
    "    for k,v in\n",
    "    data[\"graphDesign\"].items()\n",
    "}"
   ]
  },
  {
   "cell_type": "code",
   "execution_count": 21,
   "id": "ea8a1811",
   "metadata": {},
   "outputs": [
    {
     "data": {
      "text/html": [
       "<div>\n",
       "<style scoped>\n",
       "    .dataframe tbody tr th:only-of-type {\n",
       "        vertical-align: middle;\n",
       "    }\n",
       "\n",
       "    .dataframe tbody tr th {\n",
       "        vertical-align: top;\n",
       "    }\n",
       "\n",
       "    .dataframe thead th {\n",
       "        text-align: right;\n",
       "    }\n",
       "</style>\n",
       "<table border=\"1\" class=\"dataframe\">\n",
       "  <thead>\n",
       "    <tr style=\"text-align: right;\">\n",
       "      <th></th>\n",
       "      <th>Wind Onshore Generation</th>\n",
       "      <th>Solar Generation</th>\n",
       "      <th>Nuclear Generation</th>\n",
       "      <th>Hydro Water Reservoir Generation</th>\n",
       "      <th>Hydro Run-of-river and poundage Generation</th>\n",
       "      <th>Hydro Pumped Storage Generation</th>\n",
       "    </tr>\n",
       "    <tr>\n",
       "      <th>cat</th>\n",
       "      <th></th>\n",
       "      <th></th>\n",
       "      <th></th>\n",
       "      <th></th>\n",
       "      <th></th>\n",
       "      <th></th>\n",
       "    </tr>\n",
       "  </thead>\n",
       "  <tbody>\n",
       "    <tr>\n",
       "      <th>00:00</th>\n",
       "      <td>0.0</td>\n",
       "      <td>0.0</td>\n",
       "      <td>3002.0</td>\n",
       "      <td>237.0</td>\n",
       "      <td>164.0</td>\n",
       "      <td>172.0</td>\n",
       "    </tr>\n",
       "    <tr>\n",
       "      <th>01:00</th>\n",
       "      <td>0.0</td>\n",
       "      <td>0.0</td>\n",
       "      <td>3003.0</td>\n",
       "      <td>209.0</td>\n",
       "      <td>149.0</td>\n",
       "      <td>99.0</td>\n",
       "    </tr>\n",
       "    <tr>\n",
       "      <th>02:00</th>\n",
       "      <td>0.0</td>\n",
       "      <td>0.0</td>\n",
       "      <td>3003.0</td>\n",
       "      <td>249.0</td>\n",
       "      <td>148.0</td>\n",
       "      <td>83.0</td>\n",
       "    </tr>\n",
       "    <tr>\n",
       "      <th>03:00</th>\n",
       "      <td>0.0</td>\n",
       "      <td>0.0</td>\n",
       "      <td>3003.0</td>\n",
       "      <td>238.0</td>\n",
       "      <td>149.0</td>\n",
       "      <td>86.0</td>\n",
       "    </tr>\n",
       "    <tr>\n",
       "      <th>04:00</th>\n",
       "      <td>0.0</td>\n",
       "      <td>0.0</td>\n",
       "      <td>3003.0</td>\n",
       "      <td>240.0</td>\n",
       "      <td>161.0</td>\n",
       "      <td>97.0</td>\n",
       "    </tr>\n",
       "  </tbody>\n",
       "</table>\n",
       "</div>"
      ],
      "text/plain": [
       "       Wind Onshore Generation  Solar Generation  Nuclear Generation  \\\n",
       "cat                                                                    \n",
       "00:00                      0.0               0.0              3002.0   \n",
       "01:00                      0.0               0.0              3003.0   \n",
       "02:00                      0.0               0.0              3003.0   \n",
       "03:00                      0.0               0.0              3003.0   \n",
       "04:00                      0.0               0.0              3003.0   \n",
       "\n",
       "       Hydro Water Reservoir Generation  \\\n",
       "cat                                       \n",
       "00:00                             237.0   \n",
       "01:00                             209.0   \n",
       "02:00                             249.0   \n",
       "03:00                             238.0   \n",
       "04:00                             240.0   \n",
       "\n",
       "       Hydro Run-of-river and poundage Generation  \\\n",
       "cat                                                 \n",
       "00:00                                       164.0   \n",
       "01:00                                       149.0   \n",
       "02:00                                       148.0   \n",
       "03:00                                       149.0   \n",
       "04:00                                       161.0   \n",
       "\n",
       "       Hydro Pumped Storage Generation  \n",
       "cat                                     \n",
       "00:00                            172.0  \n",
       "01:00                             99.0  \n",
       "02:00                             83.0  \n",
       "03:00                             86.0  \n",
       "04:00                             97.0  "
      ]
     },
     "execution_count": 21,
     "metadata": {},
     "output_type": "execute_result"
    }
   ],
   "source": [
    "df = pd.DataFrame(\n",
    "    data[\"chartData\"]\n",
    ").set_index(data[\"categoryName\"]).astype(float).rename(columns=columns)\n",
    "df.head()"
   ]
  },
  {
   "cell_type": "code",
   "execution_count": 29,
   "id": "41b03341",
   "metadata": {},
   "outputs": [
    {
     "data": {
      "text/plain": [
       "[<matplotlib.lines.Line2D at 0x1196324a0>,\n",
       " <matplotlib.lines.Line2D at 0x119632440>,\n",
       " <matplotlib.lines.Line2D at 0x119633640>,\n",
       " <matplotlib.lines.Line2D at 0x119633760>,\n",
       " <matplotlib.lines.Line2D at 0x119633880>,\n",
       " <matplotlib.lines.Line2D at 0x1196339a0>]"
      ]
     },
     "execution_count": 29,
     "metadata": {},
     "output_type": "execute_result"
    },
    {
     "data": {
      "image/png": "[encoded data removed]",
      "text/plain": [
       "<Figure size 432x288 with 1 Axes>"
      ]
     },
     "metadata": {
      "needs_background": "light"
     },
     "output_type": "display_data"
    }
   ],
   "source": [
    "plt.plot(df)"
   ]
  },
  {
   "cell_type": "code",
   "execution_count": null,
   "id": "f5b4fbe1",
   "metadata": {},
   "outputs": [],
   "source": []
  }
 ],
 "metadata": {
  "kernelspec": {
   "display_name": "Python 3 (ipykernel)",
   "language": "python",
   "name": "python3"
  },
  "language_info": {
   "codemirror_mode": {
    "name": "ipython",
    "version": 3
   },
   "file_extension": ".py",
   "mimetype": "text/x-python",
   "name": "python",
   "nbconvert_exporter": "python",
   "pygments_lexer": "ipython3",
   "version": "3.10.4"
  }
 },
 "nbformat": 4,
 "nbformat_minor": 5
}
